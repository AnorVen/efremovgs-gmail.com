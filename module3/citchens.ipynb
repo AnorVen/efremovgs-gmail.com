{
 "cells": [
  {
   "cell_type": "code",
   "execution_count": 1,
   "metadata": {},
   "outputs": [
    {
     "name": "stdout",
     "output_type": "stream",
     "text": [
      "<class 'pandas.core.frame.DataFrame'>\n",
      "RangeIndex: 50000 entries, 0 to 49999\n",
      "Data columns (total 10 columns):\n",
      " #   Column             Non-Null Count  Dtype  \n",
      "---  ------             --------------  -----  \n",
      " 0   Restaurant_id      50000 non-null  object \n",
      " 1   City               50000 non-null  object \n",
      " 2   Cuisine Style      38410 non-null  object \n",
      " 3   Ranking            50000 non-null  float64\n",
      " 4   Price Range        32639 non-null  object \n",
      " 5   Number of Reviews  46800 non-null  float64\n",
      " 6   Reviews            49998 non-null  object \n",
      " 7   URL_TA             50000 non-null  object \n",
      " 8   ID_TA              50000 non-null  object \n",
      " 9   Rating             40000 non-null  float64\n",
      "dtypes: float64(3), object(7)\n",
      "memory usage: 3.8+ MB\n"
     ]
    }
   ],
   "source": [
    "## подготовка - создание таблицы с кухнями\n",
    "import pandas as pd\n",
    "import numpy as np\n",
    "DATA_DIR = '.'\n",
    "df_train = pd.read_csv(DATA_DIR+'/main_task.csv')\n",
    "df_test = pd.read_csv(DATA_DIR+'/kaggle_task.csv')\n",
    "sample_submission = pd.read_csv(DATA_DIR+'/sample_submission.csv')\n",
    "df = df_test.append(df_train, sort=False).reset_index(drop=True) \n",
    "df.info()"
   ]
  },
  {
   "cell_type": "code",
   "execution_count": 2,
   "metadata": {},
   "outputs": [],
   "source": [
    "def str_to_arr(string):\n",
    "    if pd.isna(string):\n",
    "        return\n",
    "    arr = []\n",
    "    arr_temp = np.array([])\n",
    "    if string[0] == '[' and string[-1] == ']':\n",
    "        string = string[1:-1]\n",
    "        arr_temp = np.array(string.split(', '))\n",
    "    for a in arr_temp:\n",
    "        a = a.replace(\"'\", '')\n",
    "        arr.append(a)\n",
    "    arr = np.array(arr)\n",
    "    return arr\n",
    "df['Cuisine Style'] = df['Cuisine Style'].apply(str_to_arr)"
   ]
  },
  {
   "cell_type": "code",
   "execution_count": 3,
   "metadata": {},
   "outputs": [],
   "source": [
    "df['Cuisine Style'] = df['Cuisine Style'].fillna('n')"
   ]
  },
  {
   "cell_type": "code",
   "execution_count": 4,
   "metadata": {},
   "outputs": [
    {
     "data": {
      "text/plain": [
       "125"
      ]
     },
     "execution_count": 4,
     "metadata": {},
     "output_type": "execute_result"
    }
   ],
   "source": [
    "citchen_wariable_arr = []\n",
    "def citchen_wariable(arr):\n",
    "    for i in arr:\n",
    "        if i != 'n':\n",
    "            if i not in citchen_wariable_arr:\n",
    "                citchen_wariable_arr.append(i)\n",
    "                \n",
    "df['Cuisine Style'].apply(citchen_wariable)\n",
    "citchen_wariable_arr.sort()\n",
    "citchen_wariable_arr_new = []\n",
    "for i in citchen_wariable_arr:\n",
    "    i = 'citchen_{0}'.format(i.replace(' ', '_'))\n",
    "    citchen_wariable_arr_new.append(i)\n",
    "len(citchen_wariable_arr)"
   ]
  },
  {
   "cell_type": "code",
   "execution_count": 5,
   "metadata": {},
   "outputs": [],
   "source": [
    "citchens =  pd.DataFrame(np.zeros(shape=(len(df), len(citchen_wariable_arr))), columns=citchen_wariable_arr_new)"
   ]
  },
  {
   "cell_type": "code",
   "execution_count": 6,
   "metadata": {},
   "outputs": [],
   "source": [
    "for i in df.index:\n",
    "    citchen = df.loc[i]['Cuisine Style']\n",
    "    if type(citchen) != 'str':\n",
    "        for j in citchen:\n",
    "            j = j.replace(' ', '_')\n",
    "            citchens.loc[i, 'citchen_{0}'.format(j)] = 1"
   ]
  },
  {
   "cell_type": "code",
   "execution_count": 7,
   "metadata": {},
   "outputs": [],
   "source": [
    "citchens.citchen_n = citchens.citchen_n.fillna(0)"
   ]
  },
  {
   "cell_type": "code",
   "execution_count": 8,
   "metadata": {},
   "outputs": [],
   "source": [
    "citchens.to_csv('citchens.csv',index=False)"
   ]
  },
  {
   "cell_type": "code",
   "execution_count": null,
   "metadata": {},
   "outputs": [],
   "source": []
  },
  {
   "cell_type": "code",
   "execution_count": null,
   "metadata": {},
   "outputs": [],
   "source": []
  }
 ],
 "metadata": {
  "kernelspec": {
   "display_name": "Python 3",
   "language": "python",
   "name": "python3"
  },
  "language_info": {
   "codemirror_mode": {
    "name": "ipython",
    "version": 3
   },
   "file_extension": ".py",
   "mimetype": "text/x-python",
   "name": "python",
   "nbconvert_exporter": "python",
   "pygments_lexer": "ipython3",
   "version": "3.7.7"
  }
 },
 "nbformat": 4,
 "nbformat_minor": 4
}

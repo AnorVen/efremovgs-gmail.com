{
 "cells": [
  {
   "cell_type": "code",
   "execution_count": 1,
   "metadata": {
    "_cell_guid": "b1076dfc-b9ad-4769-8c92-a6c4dae69d19",
    "_uuid": "8f2839f25d086af736a60e9eeb907d3b93b6e0e5",
    "tags": []
   },
   "outputs": [
    {
     "output_type": "stream",
     "name": "stdout",
     "text": "['1.ipynb', 'data.csv']\n"
    }
   ],
   "source": [
    "import numpy as np\n",
    "import pandas as pd\n",
    "import seaborn as sns\n",
    "import matplotlib.pyplot as plt\n",
    "import os\n",
    "from collections import Counter\n",
    "print(os.listdir(\".\"))"
   ]
  },
  {
   "cell_type": "code",
   "execution_count": 2,
   "metadata": {},
   "outputs": [
    {
     "output_type": "execute_result",
     "data": {
      "text/plain": "     imdb_id  popularity     budget     revenue                original_title  \\\n0  tt0369610   32.985763  150000000  1513528810                Jurassic World   \n1  tt1392190   28.419936  150000000   378436354            Mad Max: Fury Road   \n2  tt2908446   13.112507  110000000   295238201                     Insurgent   \n3  tt2488496   11.173104  200000000  2068178225  Star Wars: The Force Awakens   \n4  tt2820852    9.335014  190000000  1506249360                     Furious 7   \n\n                                                cast          director  \\\n0  Chris Pratt|Bryce Dallas Howard|Irrfan Khan|Vi...   Colin Trevorrow   \n1  Tom Hardy|Charlize Theron|Hugh Keays-Byrne|Nic...     George Miller   \n2  Shailene Woodley|Theo James|Kate Winslet|Ansel...  Robert Schwentke   \n3  Harrison Ford|Mark Hamill|Carrie Fisher|Adam D...       J.J. Abrams   \n4  Vin Diesel|Paul Walker|Jason Statham|Michelle ...         James Wan   \n\n                         tagline  \\\n0              The park is open.   \n1             What a Lovely Day.   \n2     One Choice Can Destroy You   \n3  Every generation has a story.   \n4            Vengeance Hits Home   \n\n                                            overview  runtime  \\\n0  Twenty-two years after the events of Jurassic ...      124   \n1  An apocalyptic story set in the furthest reach...      120   \n2  Beatrice Prior must confront her inner demons ...      119   \n3  Thirty years after defeating the Galactic Empi...      136   \n4  Deckard Shaw seeks revenge against Dominic Tor...      137   \n\n                                      genres  \\\n0  Action|Adventure|Science Fiction|Thriller   \n1  Action|Adventure|Science Fiction|Thriller   \n2         Adventure|Science Fiction|Thriller   \n3   Action|Adventure|Science Fiction|Fantasy   \n4                      Action|Crime|Thriller   \n\n                                production_companies release_date  vote_count  \\\n0  Universal Studios|Amblin Entertainment|Legenda...     6/9/2015        5562   \n1  Village Roadshow Pictures|Kennedy Miller Produ...    5/13/2015        6185   \n2  Summit Entertainment|Mandeville Films|Red Wago...    3/18/2015        2480   \n3          Lucasfilm|Truenorth Productions|Bad Robot   12/15/2015        5292   \n4  Universal Pictures|Original Film|Media Rights ...     4/1/2015        2947   \n\n   vote_average  release_year  \n0           6.5          2015  \n1           7.1          2015  \n2           6.3          2015  \n3           7.5          2015  \n4           7.3          2015  ",
      "text/html": "<div>\n<style scoped>\n    .dataframe tbody tr th:only-of-type {\n        vertical-align: middle;\n    }\n\n    .dataframe tbody tr th {\n        vertical-align: top;\n    }\n\n    .dataframe thead th {\n        text-align: right;\n    }\n</style>\n<table border=\"1\" class=\"dataframe\">\n  <thead>\n    <tr style=\"text-align: right;\">\n      <th></th>\n      <th>imdb_id</th>\n      <th>popularity</th>\n      <th>budget</th>\n      <th>revenue</th>\n      <th>original_title</th>\n      <th>cast</th>\n      <th>director</th>\n      <th>tagline</th>\n      <th>overview</th>\n      <th>runtime</th>\n      <th>genres</th>\n      <th>production_companies</th>\n      <th>release_date</th>\n      <th>vote_count</th>\n      <th>vote_average</th>\n      <th>release_year</th>\n    </tr>\n  </thead>\n  <tbody>\n    <tr>\n      <th>0</th>\n      <td>tt0369610</td>\n      <td>32.985763</td>\n      <td>150000000</td>\n      <td>1513528810</td>\n      <td>Jurassic World</td>\n      <td>Chris Pratt|Bryce Dallas Howard|Irrfan Khan|Vi...</td>\n      <td>Colin Trevorrow</td>\n      <td>The park is open.</td>\n      <td>Twenty-two years after the events of Jurassic ...</td>\n      <td>124</td>\n      <td>Action|Adventure|Science Fiction|Thriller</td>\n      <td>Universal Studios|Amblin Entertainment|Legenda...</td>\n      <td>6/9/2015</td>\n      <td>5562</td>\n      <td>6.5</td>\n      <td>2015</td>\n    </tr>\n    <tr>\n      <th>1</th>\n      <td>tt1392190</td>\n      <td>28.419936</td>\n      <td>150000000</td>\n      <td>378436354</td>\n      <td>Mad Max: Fury Road</td>\n      <td>Tom Hardy|Charlize Theron|Hugh Keays-Byrne|Nic...</td>\n      <td>George Miller</td>\n      <td>What a Lovely Day.</td>\n      <td>An apocalyptic story set in the furthest reach...</td>\n      <td>120</td>\n      <td>Action|Adventure|Science Fiction|Thriller</td>\n      <td>Village Roadshow Pictures|Kennedy Miller Produ...</td>\n      <td>5/13/2015</td>\n      <td>6185</td>\n      <td>7.1</td>\n      <td>2015</td>\n    </tr>\n    <tr>\n      <th>2</th>\n      <td>tt2908446</td>\n      <td>13.112507</td>\n      <td>110000000</td>\n      <td>295238201</td>\n      <td>Insurgent</td>\n      <td>Shailene Woodley|Theo James|Kate Winslet|Ansel...</td>\n      <td>Robert Schwentke</td>\n      <td>One Choice Can Destroy You</td>\n      <td>Beatrice Prior must confront her inner demons ...</td>\n      <td>119</td>\n      <td>Adventure|Science Fiction|Thriller</td>\n      <td>Summit Entertainment|Mandeville Films|Red Wago...</td>\n      <td>3/18/2015</td>\n      <td>2480</td>\n      <td>6.3</td>\n      <td>2015</td>\n    </tr>\n    <tr>\n      <th>3</th>\n      <td>tt2488496</td>\n      <td>11.173104</td>\n      <td>200000000</td>\n      <td>2068178225</td>\n      <td>Star Wars: The Force Awakens</td>\n      <td>Harrison Ford|Mark Hamill|Carrie Fisher|Adam D...</td>\n      <td>J.J. Abrams</td>\n      <td>Every generation has a story.</td>\n      <td>Thirty years after defeating the Galactic Empi...</td>\n      <td>136</td>\n      <td>Action|Adventure|Science Fiction|Fantasy</td>\n      <td>Lucasfilm|Truenorth Productions|Bad Robot</td>\n      <td>12/15/2015</td>\n      <td>5292</td>\n      <td>7.5</td>\n      <td>2015</td>\n    </tr>\n    <tr>\n      <th>4</th>\n      <td>tt2820852</td>\n      <td>9.335014</td>\n      <td>190000000</td>\n      <td>1506249360</td>\n      <td>Furious 7</td>\n      <td>Vin Diesel|Paul Walker|Jason Statham|Michelle ...</td>\n      <td>James Wan</td>\n      <td>Vengeance Hits Home</td>\n      <td>Deckard Shaw seeks revenge against Dominic Tor...</td>\n      <td>137</td>\n      <td>Action|Crime|Thriller</td>\n      <td>Universal Pictures|Original Film|Media Rights ...</td>\n      <td>4/1/2015</td>\n      <td>2947</td>\n      <td>7.3</td>\n      <td>2015</td>\n    </tr>\n  </tbody>\n</table>\n</div>"
     },
     "metadata": {},
     "execution_count": 2
    }
   ],
   "source": [
    "data = pd.read_csv('data.csv')\n",
    "data.head()"
   ]
  },
  {
   "cell_type": "code",
   "execution_count": 3,
   "metadata": {},
   "outputs": [
    {
     "output_type": "execute_result",
     "data": {
      "text/plain": "1890"
     },
     "metadata": {},
     "execution_count": 3
    }
   ],
   "source": [
    "len(data)"
   ]
  },
  {
   "cell_type": "code",
   "execution_count": 4,
   "metadata": {
    "tags": []
   },
   "outputs": [
    {
     "output_type": "stream",
     "name": "stdout",
     "text": "<class 'pandas.core.frame.DataFrame'>\nRangeIndex: 1890 entries, 0 to 1889\nData columns (total 16 columns):\n #   Column                Non-Null Count  Dtype  \n---  ------                --------------  -----  \n 0   imdb_id               1890 non-null   object \n 1   popularity            1890 non-null   float64\n 2   budget                1890 non-null   int64  \n 3   revenue               1890 non-null   int64  \n 4   original_title        1890 non-null   object \n 5   cast                  1890 non-null   object \n 6   director              1890 non-null   object \n 7   tagline               1890 non-null   object \n 8   overview              1890 non-null   object \n 9   runtime               1890 non-null   int64  \n 10  genres                1890 non-null   object \n 11  production_companies  1890 non-null   object \n 12  release_date          1890 non-null   object \n 13  vote_count            1890 non-null   int64  \n 14  vote_average          1890 non-null   float64\n 15  release_year          1890 non-null   int64  \ndtypes: float64(2), int64(5), object(9)\nmemory usage: 236.4+ KB\n"
    }
   ],
   "source": [
    "data.info()"
   ]
  },
  {
   "cell_type": "markdown",
   "metadata": {},
   "source": [
    "# Предобработка датасета"
   ]
  },
  {
   "cell_type": "code",
   "execution_count": 5,
   "metadata": {},
   "outputs": [],
   "source": [
    "answer_ls = [] # создадим список с ответами. сюда будем добавлять ответы по мере прохождения теста\n",
    "# сюда можем вписать создание новых колонок в датасете\n",
    "def get_date_for_type(date, type='year'):\n",
    "    split_date = str(date).split('/')\n",
    "    if type == 'year':\n",
    "        return split_date[2]\n",
    "    elif type == 'month':\n",
    "        return split_date[0]\n",
    "    else:\n",
    "        return split_date[1]\n",
    "\n",
    "data['balance'] = data['revenue'] - data['budget']\n",
    "data['release_month'] = data['release_date'].apply(get_date_for_type, type = 'month')"
   ]
  },
  {
   "cell_type": "markdown",
   "metadata": {},
   "source": [
    "# 1. У какого фильма из списка самый большой бюджет?\n",
    "Варианты ответов:\n",
    "1. The Dark Knight Rises (tt1345836)\n",
    "2. Spider-Man 3 (tt0413300)\n",
    "3. Avengers: Age of Ultron (tt2395427)\n",
    "4. The Warrior's Way\t(tt1032751)\n",
    "5. Pirates of the Caribbean: On Stranger Tides (tt1298650)"
   ]
  },
  {
   "cell_type": "code",
   "execution_count": 6,
   "metadata": {},
   "outputs": [
    {
     "output_type": "execute_result",
     "data": {
      "text/plain": "       imdb_id  popularity     budget   revenue     original_title  \\\n491  tt1032751     0.25054  425000000  11087569  The Warrior's Way   \n\n                                                  cast    director  \\\n491  Kate Bosworth|Jang Dong-gun|Geoffrey Rush|Dann...  Sngmoo Lee   \n\n                     tagline  \\\n491  Assassin. Hero. Legend.   \n\n                                              overview  runtime  \\\n491  An Asian assassin (Dong-gun Jang) is forced to...      100   \n\n                                        genres      production_companies  \\\n491  Adventure|Fantasy|Action|Western|Thriller  Boram Entertainment Inc.   \n\n    release_date  vote_count  vote_average  release_year    balance  \\\n491    12/2/2010          74           6.4          2010 -413912431   \n\n    release_month  \n491            12  ",
      "text/html": "<div>\n<style scoped>\n    .dataframe tbody tr th:only-of-type {\n        vertical-align: middle;\n    }\n\n    .dataframe tbody tr th {\n        vertical-align: top;\n    }\n\n    .dataframe thead th {\n        text-align: right;\n    }\n</style>\n<table border=\"1\" class=\"dataframe\">\n  <thead>\n    <tr style=\"text-align: right;\">\n      <th></th>\n      <th>imdb_id</th>\n      <th>popularity</th>\n      <th>budget</th>\n      <th>revenue</th>\n      <th>original_title</th>\n      <th>cast</th>\n      <th>director</th>\n      <th>tagline</th>\n      <th>overview</th>\n      <th>runtime</th>\n      <th>genres</th>\n      <th>production_companies</th>\n      <th>release_date</th>\n      <th>vote_count</th>\n      <th>vote_average</th>\n      <th>release_year</th>\n      <th>balance</th>\n      <th>release_month</th>\n    </tr>\n  </thead>\n  <tbody>\n    <tr>\n      <th>491</th>\n      <td>tt1032751</td>\n      <td>0.25054</td>\n      <td>425000000</td>\n      <td>11087569</td>\n      <td>The Warrior's Way</td>\n      <td>Kate Bosworth|Jang Dong-gun|Geoffrey Rush|Dann...</td>\n      <td>Sngmoo Lee</td>\n      <td>Assassin. Hero. Legend.</td>\n      <td>An Asian assassin (Dong-gun Jang) is forced to...</td>\n      <td>100</td>\n      <td>Adventure|Fantasy|Action|Western|Thriller</td>\n      <td>Boram Entertainment Inc.</td>\n      <td>12/2/2010</td>\n      <td>74</td>\n      <td>6.4</td>\n      <td>2010</td>\n      <td>-413912431</td>\n      <td>12</td>\n    </tr>\n  </tbody>\n</table>\n</div>"
     },
     "metadata": {},
     "execution_count": 6
    }
   ],
   "source": [
    "# тут вводим ваш ответ и добавлем в его список ответов (сейчас для примера стоит \"1\")\n",
    "data[data['budget'] == data['budget'].max()]"
   ]
  },
  {
   "cell_type": "code",
   "execution_count": 7,
   "metadata": {},
   "outputs": [],
   "source": [
    "answer_ls.append(4)"
   ]
  },
  {
   "cell_type": "markdown",
   "metadata": {},
   "source": [
    "# 2. Какой из фильмов самый длительный (в минутах)\n",
    "1. The Lord of the Rings: The Return of the King\t(tt0167260)\n",
    "2. Gods and Generals\t(tt0279111)\n",
    "3. King Kong\t(tt0360717)\n",
    "4. Pearl Harbor\t(tt0213149)\n",
    "5. Alexander\t(tt0346491)"
   ]
  },
  {
   "cell_type": "code",
   "execution_count": 8,
   "metadata": {},
   "outputs": [
    {
     "output_type": "execute_result",
     "data": {
      "text/plain": "        imdb_id  popularity    budget   revenue     original_title  \\\n1158  tt0279111    0.469518  56000000  12923936  Gods and Generals   \n\n                                                   cast           director  \\\n1158  Stephen Lang|Jeff Daniels|Robert Duvall|Kevin ...  Ronald F. Maxwell   \n\n                                  tagline  \\\n1158  The nations heart was touched by...   \n\n                                               overview  runtime  \\\n1158  The film centers mostly around the personal an...      214   \n\n                 genres                production_companies release_date  \\\n1158  Drama|History|War  Turner Pictures|Antietam Filmworks    2/21/2003   \n\n      vote_count  vote_average  release_year   balance release_month  \n1158          23           5.8          2003 -43076064             2  ",
      "text/html": "<div>\n<style scoped>\n    .dataframe tbody tr th:only-of-type {\n        vertical-align: middle;\n    }\n\n    .dataframe tbody tr th {\n        vertical-align: top;\n    }\n\n    .dataframe thead th {\n        text-align: right;\n    }\n</style>\n<table border=\"1\" class=\"dataframe\">\n  <thead>\n    <tr style=\"text-align: right;\">\n      <th></th>\n      <th>imdb_id</th>\n      <th>popularity</th>\n      <th>budget</th>\n      <th>revenue</th>\n      <th>original_title</th>\n      <th>cast</th>\n      <th>director</th>\n      <th>tagline</th>\n      <th>overview</th>\n      <th>runtime</th>\n      <th>genres</th>\n      <th>production_companies</th>\n      <th>release_date</th>\n      <th>vote_count</th>\n      <th>vote_average</th>\n      <th>release_year</th>\n      <th>balance</th>\n      <th>release_month</th>\n    </tr>\n  </thead>\n  <tbody>\n    <tr>\n      <th>1158</th>\n      <td>tt0279111</td>\n      <td>0.469518</td>\n      <td>56000000</td>\n      <td>12923936</td>\n      <td>Gods and Generals</td>\n      <td>Stephen Lang|Jeff Daniels|Robert Duvall|Kevin ...</td>\n      <td>Ronald F. Maxwell</td>\n      <td>The nations heart was touched by...</td>\n      <td>The film centers mostly around the personal an...</td>\n      <td>214</td>\n      <td>Drama|History|War</td>\n      <td>Turner Pictures|Antietam Filmworks</td>\n      <td>2/21/2003</td>\n      <td>23</td>\n      <td>5.8</td>\n      <td>2003</td>\n      <td>-43076064</td>\n      <td>2</td>\n    </tr>\n  </tbody>\n</table>\n</div>"
     },
     "metadata": {},
     "execution_count": 8
    }
   ],
   "source": [
    "data[data['runtime'] == data['runtime'].max()]\n"
   ]
  },
  {
   "cell_type": "code",
   "execution_count": 9,
   "metadata": {},
   "outputs": [],
   "source": [
    "answer_ls.append(2)"
   ]
  },
  {
   "cell_type": "markdown",
   "metadata": {},
   "source": [
    "# 3. Какой из фильмов самый короткий (в минутах)\n",
    "Варианты ответов:\n",
    "\n",
    "1. Home on the Range\ttt0299172\n",
    "2. The Jungle Book 2\ttt0283426\n",
    "3. Winnie the Pooh\ttt1449283\n",
    "4. Corpse Bride\ttt0121164\n",
    "5. Hoodwinked!\ttt0443536"
   ]
  },
  {
   "cell_type": "code",
   "execution_count": 10,
   "metadata": {},
   "outputs": [
    {
     "output_type": "execute_result",
     "data": {
      "text/plain": "       imdb_id  popularity    budget   revenue   original_title  \\\n769  tt1449283    1.425344  30000000  14460000  Winnie the Pooh   \n\n                                                  cast  \\\n769  Jim Cummings|Travis Oates|Jim Cummings|Bud Luc...   \n\n                      director   tagline  \\\n769  Stephen Anderson|Don Hall  Oh Pooh.   \n\n                                              overview  runtime  \\\n769  During an ordinary day in Hundred Acre Wood, W...       63   \n\n               genres                               production_companies  \\\n769  Animation|Family  Walt Disney Pictures|Walt Disney Animation Stu...   \n\n    release_date  vote_count  vote_average  release_year   balance  \\\n769    4/13/2011         174           6.8          2011 -15540000   \n\n    release_month  \n769             4  ",
      "text/html": "<div>\n<style scoped>\n    .dataframe tbody tr th:only-of-type {\n        vertical-align: middle;\n    }\n\n    .dataframe tbody tr th {\n        vertical-align: top;\n    }\n\n    .dataframe thead th {\n        text-align: right;\n    }\n</style>\n<table border=\"1\" class=\"dataframe\">\n  <thead>\n    <tr style=\"text-align: right;\">\n      <th></th>\n      <th>imdb_id</th>\n      <th>popularity</th>\n      <th>budget</th>\n      <th>revenue</th>\n      <th>original_title</th>\n      <th>cast</th>\n      <th>director</th>\n      <th>tagline</th>\n      <th>overview</th>\n      <th>runtime</th>\n      <th>genres</th>\n      <th>production_companies</th>\n      <th>release_date</th>\n      <th>vote_count</th>\n      <th>vote_average</th>\n      <th>release_year</th>\n      <th>balance</th>\n      <th>release_month</th>\n    </tr>\n  </thead>\n  <tbody>\n    <tr>\n      <th>769</th>\n      <td>tt1449283</td>\n      <td>1.425344</td>\n      <td>30000000</td>\n      <td>14460000</td>\n      <td>Winnie the Pooh</td>\n      <td>Jim Cummings|Travis Oates|Jim Cummings|Bud Luc...</td>\n      <td>Stephen Anderson|Don Hall</td>\n      <td>Oh Pooh.</td>\n      <td>During an ordinary day in Hundred Acre Wood, W...</td>\n      <td>63</td>\n      <td>Animation|Family</td>\n      <td>Walt Disney Pictures|Walt Disney Animation Stu...</td>\n      <td>4/13/2011</td>\n      <td>174</td>\n      <td>6.8</td>\n      <td>2011</td>\n      <td>-15540000</td>\n      <td>4</td>\n    </tr>\n  </tbody>\n</table>\n</div>"
     },
     "metadata": {},
     "execution_count": 10
    }
   ],
   "source": [
    "data[data['runtime'] == data['runtime'].min()]"
   ]
  },
  {
   "cell_type": "code",
   "execution_count": 11,
   "metadata": {},
   "outputs": [],
   "source": [
    "answer_ls.append(3)"
   ]
  },
  {
   "cell_type": "markdown",
   "metadata": {},
   "source": [
    "# 4. Средняя длительность фильма?\n",
    "\n",
    "Варианты ответов:\n",
    "1. 115\n",
    "2. 110\n",
    "3. 105\n",
    "4. 120\n",
    "5. 100\n"
   ]
  },
  {
   "cell_type": "code",
   "execution_count": 12,
   "metadata": {},
   "outputs": [
    {
     "output_type": "execute_result",
     "data": {
      "text/plain": "109.65343915343915"
     },
     "metadata": {},
     "execution_count": 12
    }
   ],
   "source": [
    "data['runtime'].mean()"
   ]
  },
  {
   "cell_type": "code",
   "execution_count": 13,
   "metadata": {},
   "outputs": [],
   "source": [
    "answer_ls.append(2)"
   ]
  },
  {
   "cell_type": "markdown",
   "metadata": {},
   "source": [
    "# 5. Средняя длительность фильма по медиане?\n",
    "Варианты ответов:\n",
    "1. 106\n",
    "2. 112\n",
    "3. 101\n",
    "4. 120\n",
    "5. 115\n",
    "\n",
    "\n"
   ]
  },
  {
   "cell_type": "code",
   "execution_count": 14,
   "metadata": {},
   "outputs": [
    {
     "output_type": "execute_result",
     "data": {
      "text/plain": "106.5"
     },
     "metadata": {},
     "execution_count": 14
    }
   ],
   "source": [
    "data['runtime'].median()"
   ]
  },
  {
   "cell_type": "code",
   "execution_count": 15,
   "metadata": {},
   "outputs": [],
   "source": [
    "answer_ls.append(1)"
   ]
  },
  {
   "cell_type": "markdown",
   "metadata": {},
   "source": [
    "# 6. Какой самый прибыльный фильм?\n",
    "Варианты ответов:\n",
    "1. The Avengers\ttt0848228\n",
    "2. Minions\ttt2293640\n",
    "3. Star Wars: The Force Awakens\ttt2488496\n",
    "4. Furious 7\ttt2820852\n",
    "5. Avatar\ttt0499549"
   ]
  },
  {
   "cell_type": "code",
   "execution_count": 16,
   "metadata": {},
   "outputs": [
    {
     "output_type": "execute_result",
     "data": {
      "text/plain": "       imdb_id  popularity     budget     revenue original_title  \\\n239  tt0499549    9.432768  237000000  2781505847         Avatar   \n\n                                                  cast       director  \\\n239  Sam Worthington|Zoe Saldana|Sigourney Weaver|S...  James Cameron   \n\n                         tagline  \\\n239  Enter the World of Pandora.   \n\n                                              overview  runtime  \\\n239  In the 22nd century, a paraplegic Marine is di...      162   \n\n                                       genres  \\\n239  Action|Adventure|Fantasy|Science Fiction   \n\n                                  production_companies release_date  \\\n239  Ingenious Film Partners|Twentieth Century Fox ...   12/10/2009   \n\n     vote_count  vote_average  release_year     balance release_month  \n239        8458           7.1          2009  2544505847            12  ",
      "text/html": "<div>\n<style scoped>\n    .dataframe tbody tr th:only-of-type {\n        vertical-align: middle;\n    }\n\n    .dataframe tbody tr th {\n        vertical-align: top;\n    }\n\n    .dataframe thead th {\n        text-align: right;\n    }\n</style>\n<table border=\"1\" class=\"dataframe\">\n  <thead>\n    <tr style=\"text-align: right;\">\n      <th></th>\n      <th>imdb_id</th>\n      <th>popularity</th>\n      <th>budget</th>\n      <th>revenue</th>\n      <th>original_title</th>\n      <th>cast</th>\n      <th>director</th>\n      <th>tagline</th>\n      <th>overview</th>\n      <th>runtime</th>\n      <th>genres</th>\n      <th>production_companies</th>\n      <th>release_date</th>\n      <th>vote_count</th>\n      <th>vote_average</th>\n      <th>release_year</th>\n      <th>balance</th>\n      <th>release_month</th>\n    </tr>\n  </thead>\n  <tbody>\n    <tr>\n      <th>239</th>\n      <td>tt0499549</td>\n      <td>9.432768</td>\n      <td>237000000</td>\n      <td>2781505847</td>\n      <td>Avatar</td>\n      <td>Sam Worthington|Zoe Saldana|Sigourney Weaver|S...</td>\n      <td>James Cameron</td>\n      <td>Enter the World of Pandora.</td>\n      <td>In the 22nd century, a paraplegic Marine is di...</td>\n      <td>162</td>\n      <td>Action|Adventure|Fantasy|Science Fiction</td>\n      <td>Ingenious Film Partners|Twentieth Century Fox ...</td>\n      <td>12/10/2009</td>\n      <td>8458</td>\n      <td>7.1</td>\n      <td>2009</td>\n      <td>2544505847</td>\n      <td>12</td>\n    </tr>\n  </tbody>\n</table>\n</div>"
     },
     "metadata": {},
     "execution_count": 16
    }
   ],
   "source": [
    "data[data['balance'] == data['balance'].max()]"
   ]
  },
  {
   "cell_type": "code",
   "execution_count": 17,
   "metadata": {},
   "outputs": [],
   "source": [
    "answer_ls.append(5)"
   ]
  },
  {
   "cell_type": "markdown",
   "metadata": {},
   "source": [
    "# 7. Какой фильм самый убыточный?\n",
    "Варианты ответов:\n",
    "1. Supernova tt0134983\n",
    "2. The Warrior's Way tt1032751\n",
    "3. Flushed Away\ttt0424095\n",
    "4. The Adventures of Pluto Nash\ttt0180052\n",
    "5. The Lone Ranger\ttt1210819"
   ]
  },
  {
   "cell_type": "code",
   "execution_count": 18,
   "metadata": {},
   "outputs": [
    {
     "output_type": "execute_result",
     "data": {
      "text/plain": "       imdb_id  popularity     budget   revenue     original_title  \\\n491  tt1032751     0.25054  425000000  11087569  The Warrior's Way   \n\n                                                  cast    director  \\\n491  Kate Bosworth|Jang Dong-gun|Geoffrey Rush|Dann...  Sngmoo Lee   \n\n                     tagline  \\\n491  Assassin. Hero. Legend.   \n\n                                              overview  runtime  \\\n491  An Asian assassin (Dong-gun Jang) is forced to...      100   \n\n                                        genres      production_companies  \\\n491  Adventure|Fantasy|Action|Western|Thriller  Boram Entertainment Inc.   \n\n    release_date  vote_count  vote_average  release_year    balance  \\\n491    12/2/2010          74           6.4          2010 -413912431   \n\n    release_month  \n491            12  ",
      "text/html": "<div>\n<style scoped>\n    .dataframe tbody tr th:only-of-type {\n        vertical-align: middle;\n    }\n\n    .dataframe tbody tr th {\n        vertical-align: top;\n    }\n\n    .dataframe thead th {\n        text-align: right;\n    }\n</style>\n<table border=\"1\" class=\"dataframe\">\n  <thead>\n    <tr style=\"text-align: right;\">\n      <th></th>\n      <th>imdb_id</th>\n      <th>popularity</th>\n      <th>budget</th>\n      <th>revenue</th>\n      <th>original_title</th>\n      <th>cast</th>\n      <th>director</th>\n      <th>tagline</th>\n      <th>overview</th>\n      <th>runtime</th>\n      <th>genres</th>\n      <th>production_companies</th>\n      <th>release_date</th>\n      <th>vote_count</th>\n      <th>vote_average</th>\n      <th>release_year</th>\n      <th>balance</th>\n      <th>release_month</th>\n    </tr>\n  </thead>\n  <tbody>\n    <tr>\n      <th>491</th>\n      <td>tt1032751</td>\n      <td>0.25054</td>\n      <td>425000000</td>\n      <td>11087569</td>\n      <td>The Warrior's Way</td>\n      <td>Kate Bosworth|Jang Dong-gun|Geoffrey Rush|Dann...</td>\n      <td>Sngmoo Lee</td>\n      <td>Assassin. Hero. Legend.</td>\n      <td>An Asian assassin (Dong-gun Jang) is forced to...</td>\n      <td>100</td>\n      <td>Adventure|Fantasy|Action|Western|Thriller</td>\n      <td>Boram Entertainment Inc.</td>\n      <td>12/2/2010</td>\n      <td>74</td>\n      <td>6.4</td>\n      <td>2010</td>\n      <td>-413912431</td>\n      <td>12</td>\n    </tr>\n  </tbody>\n</table>\n</div>"
     },
     "metadata": {},
     "execution_count": 18
    }
   ],
   "source": [
    "\n",
    "data[data['balance'] == data['balance'].min()]"
   ]
  },
  {
   "cell_type": "code",
   "execution_count": 19,
   "metadata": {},
   "outputs": [],
   "source": [
    "answer_ls.append(2)"
   ]
  },
  {
   "cell_type": "markdown",
   "metadata": {},
   "source": [
    "# 8. Сколько всего фильмов в прибыли?\n",
    "Варианты ответов:\n",
    "1. 1478\n",
    "2. 1520\n",
    "3. 1241\n",
    "4. 1135\n",
    "5. 1398\n"
   ]
  },
  {
   "cell_type": "code",
   "execution_count": 20,
   "metadata": {},
   "outputs": [
    {
     "output_type": "execute_result",
     "data": {
      "text/plain": "1478"
     },
     "metadata": {},
     "execution_count": 20
    }
   ],
   "source": [
    "data[data['balance'] > 0]['balance'].count()"
   ]
  },
  {
   "cell_type": "code",
   "execution_count": 21,
   "metadata": {},
   "outputs": [],
   "source": [
    "answer_ls.append(1)"
   ]
  },
  {
   "cell_type": "markdown",
   "metadata": {},
   "source": [
    "# 9. Самый прибыльный фильм в 2008 году?\n",
    "Варианты ответов:\n",
    "1. Madagascar: Escape 2 Africa\ttt0479952\n",
    "2. Iron Man\ttt0371746\n",
    "3. Kung Fu Panda\ttt0441773\n",
    "4. The Dark Knight\ttt0468569\n",
    "5. Mamma Mia!\ttt0795421"
   ]
  },
  {
   "cell_type": "code",
   "execution_count": 22,
   "metadata": {},
   "outputs": [
    {
     "output_type": "execute_result",
     "data": {
      "text/plain": "Empty DataFrame\nColumns: [imdb_id, popularity, budget, revenue, original_title, cast, director, tagline, overview, runtime, genres, production_companies, release_date, vote_count, vote_average, release_year, balance, release_month]\nIndex: []",
      "text/html": "<div>\n<style scoped>\n    .dataframe tbody tr th:only-of-type {\n        vertical-align: middle;\n    }\n\n    .dataframe tbody tr th {\n        vertical-align: top;\n    }\n\n    .dataframe thead th {\n        text-align: right;\n    }\n</style>\n<table border=\"1\" class=\"dataframe\">\n  <thead>\n    <tr style=\"text-align: right;\">\n      <th></th>\n      <th>imdb_id</th>\n      <th>popularity</th>\n      <th>budget</th>\n      <th>revenue</th>\n      <th>original_title</th>\n      <th>cast</th>\n      <th>director</th>\n      <th>tagline</th>\n      <th>overview</th>\n      <th>runtime</th>\n      <th>genres</th>\n      <th>production_companies</th>\n      <th>release_date</th>\n      <th>vote_count</th>\n      <th>vote_average</th>\n      <th>release_year</th>\n      <th>balance</th>\n      <th>release_month</th>\n    </tr>\n  </thead>\n  <tbody>\n  </tbody>\n</table>\n</div>"
     },
     "metadata": {},
     "execution_count": 22
    }
   ],
   "source": [
    "data_in_2008 = data[data['release_year'] == '2008']\n",
    "data_in_2008[data_in_2008['balance'] ==data_in_2008['balance'].max()]"
   ]
  },
  {
   "cell_type": "code",
   "execution_count": 23,
   "metadata": {},
   "outputs": [],
   "source": [
    "answer_ls.append(4)"
   ]
  },
  {
   "cell_type": "markdown",
   "metadata": {},
   "source": [
    "# 10. Самый убыточный фильм за период с 2012 по 2014 (включительно)?\n",
    "Варианты ответов:\n",
    "1. Winter's Tale\ttt1837709\n",
    "2. Stolen\ttt1656186\n",
    "3. Broken City\ttt1235522\n",
    "4. Upside Down\ttt1374992\n",
    "5. The Lone Ranger\ttt1210819\n"
   ]
  },
  {
   "cell_type": "code",
   "execution_count": 24,
   "metadata": {},
   "outputs": [
    {
     "output_type": "execute_result",
     "data": {
      "text/plain": "        imdb_id  popularity     budget   revenue   original_title  \\\n1246  tt1210819     1.21451  255000000  89289910  The Lone Ranger   \n\n                                                   cast        director  \\\n1246  Johnny Depp|Armie Hammer|William Fichtner|Hele...  Gore Verbinski   \n\n                      tagline  \\\n1246  Never Take Off the Mask   \n\n                                               overview  runtime  \\\n1246  The Texas Rangers chase down a gang of outlaws...      149   \n\n                        genres  \\\n1246  Action|Adventure|Western   \n\n                                   production_companies release_date  \\\n1246  Walt Disney Pictures|Jerry Bruckheimer Films|I...     7/3/2013   \n\n      vote_count  vote_average  release_year    balance release_month  \n1246        1607           6.0          2013 -165710090             7  ",
      "text/html": "<div>\n<style scoped>\n    .dataframe tbody tr th:only-of-type {\n        vertical-align: middle;\n    }\n\n    .dataframe tbody tr th {\n        vertical-align: top;\n    }\n\n    .dataframe thead th {\n        text-align: right;\n    }\n</style>\n<table border=\"1\" class=\"dataframe\">\n  <thead>\n    <tr style=\"text-align: right;\">\n      <th></th>\n      <th>imdb_id</th>\n      <th>popularity</th>\n      <th>budget</th>\n      <th>revenue</th>\n      <th>original_title</th>\n      <th>cast</th>\n      <th>director</th>\n      <th>tagline</th>\n      <th>overview</th>\n      <th>runtime</th>\n      <th>genres</th>\n      <th>production_companies</th>\n      <th>release_date</th>\n      <th>vote_count</th>\n      <th>vote_average</th>\n      <th>release_year</th>\n      <th>balance</th>\n      <th>release_month</th>\n    </tr>\n  </thead>\n  <tbody>\n    <tr>\n      <th>1246</th>\n      <td>tt1210819</td>\n      <td>1.21451</td>\n      <td>255000000</td>\n      <td>89289910</td>\n      <td>The Lone Ranger</td>\n      <td>Johnny Depp|Armie Hammer|William Fichtner|Hele...</td>\n      <td>Gore Verbinski</td>\n      <td>Never Take Off the Mask</td>\n      <td>The Texas Rangers chase down a gang of outlaws...</td>\n      <td>149</td>\n      <td>Action|Adventure|Western</td>\n      <td>Walt Disney Pictures|Jerry Bruckheimer Films|I...</td>\n      <td>7/3/2013</td>\n      <td>1607</td>\n      <td>6.0</td>\n      <td>2013</td>\n      <td>-165710090</td>\n      <td>7</td>\n    </tr>\n  </tbody>\n</table>\n</div>"
     },
     "metadata": {},
     "execution_count": 24
    }
   ],
   "source": [
    "temp = data.query('release_year  in [\"2012\", \"2013\", \"2014\"] ')\n",
    "temp[temp['balance'] == temp['balance'].min()]"
   ]
  },
  {
   "cell_type": "code",
   "execution_count": 25,
   "metadata": {},
   "outputs": [],
   "source": [
    "answer_ls.append(5)"
   ]
  },
  {
   "cell_type": "markdown",
   "metadata": {},
   "source": [
    "# 11. Какого жанра фильмов больше всего?\n",
    "Варианты ответов:\n",
    "1. Action\n",
    "2. Adventure\n",
    "3. Drama\n",
    "4. Comedy\n",
    "5. Thriller"
   ]
  },
  {
   "cell_type": "code",
   "execution_count": 26,
   "metadata": {
    "tags": []
   },
   "outputs": [
    {
     "output_type": "stream",
     "name": "stdout",
     "text": "Drama 782\n"
    }
   ],
   "source": [
    "genres = []\n",
    "def unic_genres(string):\n",
    "    arr = string.split('|')\n",
    "    for i in arr:\n",
    "        if i not in genres:\n",
    "            genres.append(i)\n",
    "data['genres'].apply(unic_genres)\n",
    "genres_max = ''\n",
    "temp_count = 0\n",
    "for i in genres:\n",
    "    temp = data[data['genres'].str.contains(i) != False]['genres'].count()\n",
    "    if temp > temp_count:\n",
    "        temp_count = temp\n",
    "        genres_max = i\n",
    "    elif temp == temp_count:\n",
    "        genres_max = genres_max + i #проверка на одинаковое кол-во фильмов\n",
    "        temp_count = temp\n",
    "print(genres_max, temp_count)\n"
   ]
  },
  {
   "cell_type": "code",
   "execution_count": 27,
   "metadata": {},
   "outputs": [],
   "source": [
    "answer_ls.append(3)"
   ]
  },
  {
   "cell_type": "markdown",
   "metadata": {},
   "source": [
    "# 12. Какого жанра среди прибыльных фильмов больше всего?\n",
    "Варианты ответов:\n",
    "1. Drama\n",
    "2. Comedy\n",
    "3. Action\n",
    "4. Thriller\n",
    "5. Adventure"
   ]
  },
  {
   "cell_type": "code",
   "execution_count": 28,
   "metadata": {
    "tags": []
   },
   "outputs": [
    {
     "output_type": "stream",
     "name": "stdout",
     "text": "Drama 560\n"
    }
   ],
   "source": [
    "genres = []\n",
    "def unic_genres(string):\n",
    "    arr = string.split('|')\n",
    "    for i in arr:\n",
    "        if i not in genres:\n",
    "            genres.append(i)\n",
    "data['genres'].apply(unic_genres)\n",
    "genres_max = ''\n",
    "temp_count = 0\n",
    "for i in genres:\n",
    "    temp = data[(data['genres'].str.contains(i) != False) & (data['balance'] > 0)]['genres'].count()\n",
    "    if temp > temp_count:\n",
    "        temp_count = temp\n",
    "        genres_max = i\n",
    "    elif temp == temp_count:\n",
    "        genres_max = genres_max + i \n",
    "        temp_count = temp\n",
    "print(genres_max, temp_count)"
   ]
  },
  {
   "cell_type": "code",
   "execution_count": 29,
   "metadata": {},
   "outputs": [],
   "source": [
    "answer_ls.append(1)"
   ]
  },
  {
   "cell_type": "markdown",
   "metadata": {},
   "source": [
    "# 13. Кто из режиссеров снял больше всего фильмов?\n",
    "Варианты ответов:\n",
    "1. Steven Spielberg\n",
    "2. Ridley Scott \n",
    "3. Steven Soderbergh\n",
    "4. Christopher Nolan\n",
    "5. Clint Eastwood"
   ]
  },
  {
   "cell_type": "code",
   "execution_count": 30,
   "metadata": {
    "tags": []
   },
   "outputs": [
    {
     "output_type": "stream",
     "name": "stdout",
     "text": "McGSteven Soderbergh 13\n"
    }
   ],
   "source": [
    "director = []\n",
    "def unic_genres(string):\n",
    "    arr = string.split('|')\n",
    "    for i in arr:\n",
    "        if i not in director:\n",
    "            director.append(i)\n",
    "data['director'].apply(unic_genres)\n",
    "temp_count = 0\n",
    "for i in director:\n",
    "    temp = data[data['director'].str.contains(i) != False]['director'].count()\n",
    "    if temp > temp_count:\n",
    "        temp_count = temp\n",
    "        genres_max = i\n",
    "    elif temp == temp_count:\n",
    "        genres_max = genres_max + i \n",
    "        temp_count = temp\n",
    "print(genres_max, temp_count)"
   ]
  },
  {
   "cell_type": "code",
   "execution_count": 31,
   "metadata": {},
   "outputs": [],
   "source": [
    "answer_ls.append(1)"
   ]
  },
  {
   "cell_type": "markdown",
   "metadata": {},
   "source": [
    "# 14. Кто из режиссеров снял больше всего Прибыльных фильмов?\n",
    "Варианты ответов:\n",
    "1. Steven Soderbergh\n",
    "2. Clint Eastwood\n",
    "3. Steven Spielberg\n",
    "4. Ridley Scott\n",
    "5. Christopher Nolan"
   ]
  },
  {
   "cell_type": "code",
   "execution_count": 32,
   "metadata": {
    "tags": []
   },
   "outputs": [
    {
     "output_type": "stream",
     "name": "stdout",
     "text": "Ridley Scott 12\n"
    }
   ],
   "source": [
    "director = []\n",
    "def unic_genres(string):\n",
    "    arr = string.split('|')\n",
    "    for i in arr:\n",
    "        if i not in director:\n",
    "            director.append(i)\n",
    "data['director'].apply(unic_genres)\n",
    "temp_count = 0\n",
    "for i in director:\n",
    "    temp = data[(data['director'].str.contains(i) != False) & (data['balance'] > 0)]['director'].count()\n",
    "    if temp > temp_count:\n",
    "        temp_count = temp\n",
    "        genres_max = i\n",
    "    elif temp == temp_count:\n",
    "        genres_max = genres_max + i \n",
    "        temp_count = temp\n",
    "print(genres_max, temp_count)"
   ]
  },
  {
   "cell_type": "code",
   "execution_count": 33,
   "metadata": {},
   "outputs": [],
   "source": [
    "answer_ls.append(4)"
   ]
  },
  {
   "cell_type": "markdown",
   "metadata": {},
   "source": [
    "# 15. Кто из режиссеров принес больше всего прибыли?\n",
    "Варианты ответов:\n",
    "1. Steven Spielberg\n",
    "2. Christopher Nolan\n",
    "3. David Yates\n",
    "4. James Cameron\n",
    "5. Peter Jackson\n"
   ]
  },
  {
   "cell_type": "code",
   "execution_count": 34,
   "metadata": {
    "tags": []
   },
   "outputs": [
    {
     "output_type": "stream",
     "name": "stdout",
     "text": "Peter Jackson 5202593685\n"
    }
   ],
   "source": [
    "director = []\n",
    "def unic_genres(string):\n",
    "    arr = string.split('|')\n",
    "    for i in arr:\n",
    "        if i not in director:\n",
    "            director.append(i)\n",
    "data['director'].apply(unic_genres)\n",
    "temp_count = 0\n",
    "for i in director:\n",
    "    temp = data[(data['director'].str.contains(i) != False) & (data['balance'] > 0)]['balance'].sum()\n",
    "    if temp > temp_count:\n",
    "        temp_count = temp\n",
    "        genres_max = i\n",
    "    elif temp == temp_count:\n",
    "        genres_max = genres_max + i \n",
    "        temp_count = temp\n",
    "print(genres_max, temp_count)"
   ]
  },
  {
   "cell_type": "code",
   "execution_count": 35,
   "metadata": {},
   "outputs": [],
   "source": [
    "answer_ls.append(5)"
   ]
  },
  {
   "cell_type": "markdown",
   "metadata": {},
   "source": [
    "# 16. Какой актер принес больше всего прибыли?\n",
    "Варианты ответов:\n",
    "1. Emma Watson\n",
    "2. Johnny Depp\n",
    "3. Michelle Rodriguez\n",
    "4. Orlando Bloom\n",
    "5. Rupert Grint"
   ]
  },
  {
   "cell_type": "code",
   "execution_count": 36,
   "metadata": {
    "tags": []
   },
   "outputs": [
    {
     "output_type": "stream",
     "name": "stdout",
     "text": "Emma Watson 6666245597\n"
    }
   ],
   "source": [
    "actor = []\n",
    "def unic_genres(string):\n",
    "    arr = string.split('|')\n",
    "    for i in arr:\n",
    "        if i not in actor:\n",
    "            actor.append(i)\n",
    "data['cast'].apply(unic_genres)\n",
    "temp_count = 0\n",
    "genres_max = ''\n",
    "arr =[]\n",
    "for i in actor:\n",
    "    temp = data[(data['cast'].str.contains(i) != False)]['balance'].sum()\n",
    "   \n",
    "    arr.append([i, temp])\n",
    "    if temp > temp_count:\n",
    "        temp_count = temp\n",
    "        genres_max = i\n",
    "    elif temp == temp_count:\n",
    "        genres_max = genres_max + i \n",
    "        temp_count = temp\n",
    "print(genres_max, temp_count)"
   ]
  },
  {
   "cell_type": "code",
   "execution_count": 37,
   "metadata": {},
   "outputs": [],
   "source": [
    "answer_ls.append(1)"
   ]
  },
  {
   "cell_type": "markdown",
   "metadata": {},
   "source": [
    "# 17. Какой актер принес меньше всего прибыли в 2012 году?\n",
    "Варианты ответов:\n",
    "1. Nicolas Cage\n",
    "2. Danny Huston\n",
    "3. Kirsten Dunst\n",
    "4. Jim Sturgess\n",
    "5. Sami Gayle"
   ]
  },
  {
   "cell_type": "code",
   "execution_count": 38,
   "metadata": {
    "tags": [
     "outputPrepend"
    ]
   },
   "outputs": [
    {
     "output_type": "stream",
     "name": "stdout",
     "text": "linBetty BuckleyAlexander SiddigDavid O'HaraDakota Blue RichardsAugustus PrewNatascha McElhoneTeddy GeigerMatthew BroderickTracey UllmanDrake BellSara PaxtonLeslie NielsenJennifer HudsonSophie OkonedoAlicia KeysPiper PeraboPaul RodrÃ­guezDax ShepardHayley AtwellRinko KikuchiGabrielle UnionJennifer CarpenterJohnathon SchaechRob BrownDarrin HensonCharles S. DuttonAunjanue EllisCheryl HinesPatrick WarburtonRon GlassVanessa LacheyNicole Ari ParkerCrista FlanaganGary 'G. Thang' JohnsonDiora BairdVinnie JonesRoger BartThomas JaneDevon AokiSean PertweeBenno FÃ¼rmannMadeline CarrollAshton HolmesJodie FosterMichael CarmanMark BradyMyleene KlassRobin WalshMatt McKennaKelan PannellJanette ScottJames Earl JonesMargaret AveryHugo WeavingKevin McNallyKarin KonovalMini AndenTony GoldwynRussell PetersMichael ArdenGoran VisnjicAndrew HowardGriffin GluckDakota GoyoPatricia ClarksonNolan GouldLucy PunchJared HarrisLarry the Cable GuyGreta GerwigOlivia ThirlbyNick FrostJoel CourtneyRiley GriffithsRyan LeeJena MaloneShiloh FernandezHunter McCrackenFinnegan WilliamsDianna AgronCallan McAuliffeWill.i.amJean DujardinBÃ©rÃ©nice BejoPenelope Ann MillerJeremy IrvineMircea MonroeSacha Baron CohenViolante PlacidoFergus RiordanJohnny WhitworthRomola GaraiHeida ReedDominic PurcellColin O'DonoghueToby JonesJim CummingsTravis OatesBud LuckeyMatthew MacfadyenLily CollinsMaggie QPatton OswaltElizabeth ReaserCollette WolfeJanuary JonesAidan QuinnBruno GanzLauren HodgesCallum BlueMichael VartanLennie JamesWill RothhaarCory HardrictJim ParrackEmma BellNicholas D'AgostoMiles FisherEllen WroeJacqueline MacInnes WoodJustin Michael BrandtRichard GoteriPeter CareyEugenio DerbezTim MeadowsChristopher LeeFernanda DorogiColin FordMaggie Elizabeth JonesRachael TaylorDallas RobertsMinka KellyAmy SedarisJay ChouEdward FurlongColin EgglesfieldAshley WilliamsJason MomoaRose McGowanRachel NicholsRowan AtkinsonRoger BarclayMary-Kate OlsenLisa Gay HamiltonLea MicheleRyan RobbinsWarren ChristieLloyd OwenAndrew AirlieMichael KopsaDavid TennantPinkE.G. DailyJohnny A. SanchezDavid ArquetteNeve CampbellDan FoglerElisabeth HarnoisJodie WhittakerJohn BoyegaLuke TreadawayDevon BostickThomas HornJenny SlateAndy BuckleyLaz AlonsoVicky KriepsTom HollanderAmara MillerNick KrauseRobert ForsterMichael RispoliKatarina CasKenny WormaldAndie MacDowellJordana SpiroElvis PolanskiKatie FeatherstonSprague GraydenLauren BittnerChristopher Nicholas SmithChloe CsengeryGeraldine JamesMax RecordsJ.B. SmooveAlice ParkinsonDaniel WyllieAllison CratchleySarah ShahiBusy PhilippsHelen HuntLorraine NicholsonCarrie UnderwoodAziz AnsariBianca KajlichGlenn CloseTatum EtheridgeAimee TeegardenThomas McDonellNicholas BraunFaith FordDanielle CampbellGina GershonPortia DoubledayMari MorrowFaizon LoveAndy LauNicholas TseFan BingbingWu JingCory MonteithAnthony Stewart HeadSusan BrownLudivine SagnierRaad RawiMehmet FerdaPhilip QuastChris CarmackChris ZylkaDustin MilliganTaylor SchillingPaul JohanssonMichael O'KeefeGrant BowlerJudd HirschEve HewsonKerry CondonPauline CollinsJustin BieberUsher RaymondSean KingstonRae Dawn ChongRichard HarrisRay RomanoDenis LearyBrian CoxEric MabiusRyan McCluskeyOscar PearceCliff RobertsonIan McDiarmidChristopher WalkenRip TornLara Flynn BoyleJohnny KnoxvilleFrank FinlayMaureen LipmanEmilia FoxSamantha MortonLois SmithChris SandersDaveigh ChaseTia CarrereKevin McDonaldShu QiMatt SchulzeAsia ArgentoMichael RoofRoscoe Lee BrowneMartin ShortToby StephensNoah HuntleyChristopher DunneEmma HitchingNatasha RichardsonTyler PoseyDaniel Day-LewisGeena DavisJonathan LipnickiAnna HoelckTara ReidTim MathesonSimon HelbergEminemMekhi PhiferAllen CovertPeter GallagherAlicia WittDana IveyRobert KleinRory CulkinCherry JonesMartin HendersonDavid DorfmanShannon CochranShane WestPeter CoyoteDaryl HannahLauren GermanJohn CorbettMichael ConstantineAndrea MartinSharon SmallFrancesca NeriJonathan FrakesLeVar BurtonBrent SpinerGates McFaddenAngus MacfadyenDeborah RushTyler HoechlinLiam AikenPaul NewmanMichael YorkMindy SterlingElizabeth MitchellDavid KrumholtzEric LloydMaura TierneyMartin DonovanGabriel ByrneJulianna MarguliesDesmond HarringtonRon EldardSarah Michelle GellarDaniel StudiChopper BernetJeff LeBeauKelly HuSteven BrandBernard HillKeith DallasMadeleine StoweBam MargeraSteve-OChris PontiusDave EnglandMÃ­a MaestroPatricia Reyes SpÃ­ndolaBen ChaplinMichael PittAgnes BrucknerCandice BergenEveMichael MicheleSamantha MumbaPhyllida LawLaura KirkMark AddyJon SedaNoah EmmerichAnne HecheKimberly EliseDaniel E. SmithOlivier MartinezErik Per SullivanZeljko IvanekKim StauntonSydney PollackJoss AcklandJohn ShrapnelStuart TownsendAaliyahMarguerite MoreauVincent PÃ©rezPaul McGannBilly CampbellTessa AllenDan FuttermanJohn WitherspoonDon CurryHarriet OwenBlayne WeaverJeff BennettKath SoucieDevon SawaLaura PreponCatherine Zeta-JonesChristine BaranskiConnie NielsenErin DanielsEriq La SalleRebecca RomijnRie RasmussenGregg HenryEliza DushkuGeorge DzundzaIzabella ScorupcoZaid FaridWilliam ShatnerMarcel IureÈ™Cole HauserJune SquibbSanoe LakeWanda De JesusTina LiffordJeremy DaviesUlrich TukurLaura LinneyBob TraceyDebra MessingDennis HaysbertRachel GriffithsBeth GrantAngus T. JonesRutger HauerCourtney LoveJesse BradfordPaula GarcÃ©sRobin ThomasFrench StewartMichael BiehnBrad LoreeBusta RhymesKatee SackhoffFrankie MunizDerek LukeMalcolm David KelleyCory HodgesVivica A. FoxMaurice GodinBritney SpearsTaryn ManningAnson MountRandy QuaidJoe PantolianoJay MohrHarvey KeitelElizabeth HurleyVincent PastoreBruce CampbellJoe MortonRon RifkinSusanna ThompsonNick CannonLeonard RobertsGQTommy FlanaganCarmen ChaplinStephen DorffUdo KierAmelia CurtisRita WilsonRon LeibmanEddie GriffinDenise RichardsChi McBrideIndia EisleyJacki WeaverKelly MacdonaldSam ClaflinAyush TandonGautam BelurAdil HussainChris WedgeWerner HerzogTom HollandSamuel JoslinOaklee PendergastSarah SilvermanJack McBrayerJamie ElmanAnna CampLuke GrimesJonny Lee MillerEzra MillerAlyson HanniganCody HornKristen ConnollyAnna HutchisonFran KranzJesse WilliamsChris SarandonJames HongCatherine ChanRobert John BurkeJames KidnieHeidi HawkinsDanny DeVitoJared GilmanKara HaywardWood HarrisBrooklyn DeckerTadanobu AsanoNathan LanePaul DanoNoah SeganGina CaranoKathryn McCormickMegan BooneJessica GuadixAlex RussellMichael KellyAnna WoodNestor SerranoGonzalo MenendezAlexander AsefaSayed BadreyaOliver CooperJonathan Daniel BrownThomas MannDax FlameKirby Bliss BlantonDiego BonetaSami GayleBrian BlessedJesse PlemonsMaude ApatowJoseph GilgunLauren AmbroseSidney JohnstonAlisa KhazanovaMary StockleyCharlie TahanEva Amurri MartinoMark DuplassMatt BushKatrina BowdenJean-Luc BilodeauNatasha CalisMadison DavenportKyra SedgwickRob LaBelleAdelaide ClemensVerÃ³nica EcheguiBrit MarlingMonica RaymundAdrianne PalickiSean HayesWill SassoChris DiamantopoulosMarin IrelandJean RenoDebbie ReynoldsSherri ShepherdPatrick FischlerTom CourtenayTucker AlbrizziLucas BlackPeyton ListEva LongoriaPeter O'TooleRubÃ©n BladesDaniela RuahVictoria JusticeJackson NicollChelsea HandlerJosh PenceJane LevyDania RamirezWolÃ© ParksJeremy IronsKathryn NewtonMatt ShivelyBrady AllenTom Everett ScottJulianna GuillLuke PasqualinoAryana EngineerWhitney HoustonCee Lo GreenKaty PerryShannon WoodwardRachael MarkarianMia MorettiJack DavenportDavid CarradineMary AliceHelmut BakaitisEllen DeGeneresAlexander GouldBrad GarrettPhilip Baker HallCatherine BellLisa Ann WalterGregor FisherDaniel TayNick StahlKristanna LokenAlbert FinneySean ConneryPeta WilsonFausto CallegariniPhil CollinsConnor FunkTony CoxBrett KellyBernie MacNatalie ImbrugliaTasha de VasconcelosBen MillerRichard BriersPamela AndersonJenny McCarthyMarny EngCharlie SheenSimon RexRomeo MillerDavid MoscowLarenz TateGeno SilvaJacqueline ObradorsMike WhiteAdam PascalWilliam AthertonChad LindbergKevin ZegersBilly BoydJoseph MorganMarcia Gay HardenKevin ChapmanEllen PompeoLeah ReminiAnnie ParisseAdam GoldbergFann WongLL Cool JJosh CharlesEamonn WalkerJohnny MessnerSally FieldRegina KingJennifer CoolidgeJames NewmanMark HarmonHarold GouldHaley HudsonNathaniel ParkerMarsha ThomasonJennifer TillyCarly NahonA.J. CookMichael LandesTony ToddKeegan Connor TracyJonathan TuckerErica LeerhsenBonnie HuntTom WellingHilary DuffRobert EnglundKen KirzingerJason RitterMonica KeenaLochlyn MunroTom ArnoldJenna ElfmanHeather LocklearTim DalyMichael JeterChristian KaneAlex ThomasDavid McCulloughJohn BillingsleyRay WiseGarikayi MutambirwaEric NenningerJosh HammondAdam LambergHallie ToddRobert CarradineDamian LewisRachel DratchPeter WellerLeslie StefansonJohn FinnLee TergesenAnnie CorleyJoan PlowrightLenny VenitoKevin ConwayC. Thomas HowellMimi RogersJesse SpencerGabriel MannJonathan CherryTyron LeitsoClint HowardOna GrauerMichael EklundSid HaigBill MoseleyKaren BlackJames BrolinS. Epatha MerkersonDebra WingerPeter MullanJack McElhoneJean-Marie LamourMarc FayolleBob BalabanChristopher GuestJohn AldertonLinda BassettAnnette CrosbieAngie HarmonCynthia StevensonJohn BroadwaterJames CameronMike CameronKen MarschallWen Yann ShihSeymour CasselDylan McDermottSophie MarceauPaul WilsonKelly ClarksonJustin Guarini Brandon HenschelGreg SiffBrian DietzenBlythe DannerIdina MenzelJonathan GroffSantino FontanaOrto IgnatiussenPhaldut SharmaRob ReinerBurn GormanMiranda CosgroveLupita Nyong'oLili TaylorJoey KingYuliya SnigirJoel MurrayAbigail HargroveShirley MacLaineDaniel BrÃ¼hlAlexandra Maria LaraNatalie DormerLeven RambinAnaleigh TiptonPihla ViitalaHiroyuki SanadaKou ShibasakiMin TanakaJemima WestRobert SheehanYousuf AzamiCarlos AlazraquiJulia Louis-DreyfusAshley BensonRachel KorineMichael ImperioliElla Rae PeckLou Taylor PucciElizabeth BlackmoreJohn D'LeoCloris LeachmanIzabela VidovicMax MartiniChris MulkeyYul VazquezAdam LevineEleanor TomlinsonDavid CostabileRafe SpallMegan ParkCobie SmuldersGeorgina CatesSpike JonzeZoÃ« KravitzGlenn MorshowerTaran KillamKaren GillanJames LaffertyRory CochraneDan YeagerMarilyn BurnsTania RaymondeMatt CrossDanny SapaniZach BraffAgata BuzekVicky McClureLee Asquith-CoeBenedict WongTony ShalhoubFrances FisherLance ReddickMegan CharpentierIsabelle NÃ©lisseDaniel KashAnn HaradaBen LevinDan LevyDavid BannerMichael Rainey Jr.LaJessie SmithCommonCharlie SaxtonJustin ChonSarah WrightJonathan KeltzPenelope WiltonDavid LyonsMike PniewskiIsrael BroussardTaissa FarmigaKatie ChangClaire JulienNikki ReedLydia HullSally HawkinsSylvia HoeksMaximilian DirrTye SheridanJacob LoflandMichael MacKenzieCharlie RoweAngourie RiceJodi Lyn O'KeefeChadwick BosemanT.R. KnightNicole BeharieChristopher MeloniTao OkamotoRila FukushimaSvetlana KhodchenkovaGeorge TakeiBob OdenkirkAshley TisdaleErica AshTiger Hu ChenJeremy MarinasSteven DaszKaren MokChristina MilianMargo MartindaleRichard CabralCarlos PrattsEddie J. FernandezJorge DiazDavid Fernandez Jr.James WoodsJosh HollowayCaity LotzJacob LatimoreMackenzie GrayJames HetfieldLars UlrichKirk HammettJim BelushiAshley BellJulia GarnerAndrew SensenigSpencer Treat ClarkJudd LormandRiaad MoosaFana MokoenaSophie Kennedy ClarkBarbara JeffordNaveen AndrewsCharles EdwardsDouglas HodgePaul FreemanBruce PayneTiya SircarYanina StudilinaPhilippe ReinhardtHeiner LauterbachMaria SmolnikovaStephen FryJulia WinterMos DefJulian McMahonMax BakerCaroline ChikezieChris PotterJustin ChatwinGong LiYouki KudohTsai ChinSuzuka OhgoGarry MarshallDon KnottsJulie Ann EmeryKate NautaAlessandro GassmanJane FondaWanda SykesAndrÃ© BenjaminSimon WoodsMel BrooksPaula AbdulJenna BoydAdriÃ¡n Alonso BaronaJulio Oscar MechosoNick ChinlundWill Yun LeePaul WhitehousePeter SallisNicholas SmithLiz SmithKelly LynchScott MacDonaldDonal LogueDina Spybey-WatersBen ShenkmanCraig BierkoJonathan Rhys MeyersAmy IrvingBen DanielsDeobia OpareiJonathan BennettJimmy FallonJason SpevackJack KehlerMaureen KeillerDanny McCarthyJesper ChristensenYvan AttalRoger Ashton-GriffithsBecca GardnerMichelle HornJessica SimpsonWillie NelsonBurt ReynoldsMathieu KassovitzHanns ZischlerCampbell ScottKenneth WelshCameron BrightAddison TimlinGena RowlandsWendie MalickDavid StrathairnRose AbdooDianne ReevesRobert Ri'chardRick GonzalezHeidi HayesJesse JamesVincent ReganDylan BrownWendy Raquel RobinsonJudith ScottHal WilliamsArmand AssanteKate BeahanMichael IrbyDrea de MatteoJulie DelpySharon StoneGemmenne de la PeÃ±aSimon BakerRobert JoyTyler HiltonAimee GarciaOmar Benson MillerMusetta VanderPortia de RossiMilo VentimigliaKate BurtonMichael IrvinNellyNia LongAleisha AllenPhilip BoldenHeike MakatschArmin RohdeWilfried HochholdingerDeRay DavisJeremy SheffieldMichael MadsenPortia DawsonAllie MickelsonCraig ArchibaldBronwen ColemanKate ShindleDonald SumpterElisha CuthbertParis HiltonBrian Van HoltRobert MammoneJames CarpinelloMark ConsuelosAlicia SilverstoneTaylor DooleyCayden BoydJosh FlitterPeter FirthKuno BeckerGary LewisChandra WestDeborah Kara UngerIan McNeiceKelly PrestonKevin HeffernanLaura JohnsonEugene HutzBoris LeskinJana HrabetovaJonathan Safran FoerKatija PevecDean CollinsElise NealFrank C. TurnerMatthew WalkerEmily DeschanelBarry WatsonTory MussettEddie CibrianAnthony RappJesse L. MartinWilson Jermaine HerediaElle PetersonThomas CurtisKen MedlockAman JohalCicely TysonEva Marie SaintDave MatthewsRebecca De MornayJohn RobinsonTony CurranDerek JacobiMads MikkelsenAudrey TautouJenna DewanDamaine RadcliffDe'Shawn WashingtonMarioEli WallachJake CherryDick Van DykeGael GarcÃ­a BernalLuenellBob BarrDavid HasselhoffHenry WinklerJoey Lauren AdamsGarry ShandlingSimon ChandlerDavid CalderRichard FelixBirgit MinichmayrKagiso KuypersGerard PlunkettRyan MerrimanKris LemcheAlexz JohnsonSam EastonLaura RamseyMark MargolisStephen McHattieLombardo BoyarBurt YoungGeraldine HughesJames Francis Kelly IIIJaneane GarofaloEd SpeleersRobert CarlyleShohreh AghdashlooEbon Moss-BachrachBill PullmanRyan NewmanMitchel MussoSpencer LockeRudy YoungbloodDalia HernÃ¡ndezJonathan BrewerMorris BirdyellowheadRaoul Max TrujilloAaron StanfordKathleen QuinlanDan ByrdSamaire ArmstrongMissi PyleMakenzie VegaTammy BlanchardLuis TosarJesse MetcalfeSophia BushArielle KebbelAshantiJohn Benjamin HickeyFrank WelkerShane BaumelTimyra-Joi BeattyJoseph RuskinAlex RoccoWayne NewtonJoanna 'JoJo' LevesqueMegan DoddsEmily ProcterMark MosesStan CollymoreAustin CrimBrian HoweJames KarenEdie FalcoWilliam ForsytheShawnee SmithBahar SoomekhDina MeyerAna de la RegueraHÃ©ctor JimÃ©nezDarius RoseJacinda BarrettEmmy RossumJane AlexanderAndy DickTim BagleySeamus Davey-FitzpatrickKazunari NinomiyaTsuyoshi IharaRyo KaseNakamura ShidÅ IIMitch BakerSherry MillerSharon OsbourneAdam CampbellSophie MonkAdam HerschmanGary SiniseKenan ThompsonNathan PhillipsRyan DunnSela WardMelissa SagemillerOmari HardwickBrian TeeNathalie KelleyShad MossBarbara FlynnBill PatersonIan SomerhalderJohn Cothran, Jr.Kelly CarlsonAbigail BiancaAnthony Ray ParkerChevy ChaseJake McDormanMarshall BellToby HussPat HealyJenna SternTimothy HuttonMax LewisJ.J. JohnsonPolly AdamsTrish GatesNancy McDonielOpal AlladinSylvia SymsHelen McCroryRitchie CosterLeland OrserScott HazellMac McDonaldPhilip WinchesterTodd BoyceChazz PalminteriKarel RodenSam JaegerEdison ChenVirginia MadsenCarly SchroederKyle GassRonnie James DioMeat LoafChace CrawfordClark GreggHrithik RoshanAbhishek BachchanUday ChopraBipasha BasuKristen ClokeLacey ChabertSarita ChoudhuryCindy CheungL. Scott CaldwellLeon RippyKevin DunnTabuSahira NairJon HederJamel DebbouzeSamy NaceriRoschdy ZemSami BouajilaBernard BlancanJon FosterWendell PiercePeter O'BrienKeke PalmerJ.R. VillarrealGordon Liu Chia-HuiHolly HunterDominique LouisAlan TudykLusia StrusAna GasteyerShuler HensleyRupert EvansEddie DeezenChris CoppolaNona GayeWilliam Lee ScottElden HensonMelora WaltersSophie VavasseurDash MihokJay O. SandersMike ColterJennifer Love HewittStephen TobolowskyEvan ArnoldBai LingJennifer EspositoAidan McArdleJames RemarJulie ChristieRaoul BovaCyril RaffaelliTony D'AmarioDany Verissimo-PetitBibi NaceriRosemary HarrisScott MechlowiczJacob PittsTravis WesterMarc AnthonyColin StintonRoy ScheiderJake WeberChristina CoxShelbie BruceLen CariouJohn Rhys-DaviesEmilio EchevarrÃ­aJason BehrWilliam MapotherKaDee StricklandAitana SÃ¡nchez-GijÃ³nJohn SharianMichael IronsideHannah SpearrittGisele BÃ¼ndchenOmar EppsJane KrakowskiRenÃ©e TaylorG. W. BaileyZuleikha RobinsonOmar SharifAdam Alexi-MalleLouise LombardGeorge W. BushStevie WonderAl GoreFrankie FaisonMaitland WardRussell WongTrey ParkerMatt StoneKristen MillerMasasa MoyoDaran NorrisSandra OhMarylouise BurkeAntony StarrAndrew HamptonFred WilliamsonGlenne HeadlyAlison PillFrank CollisonMaia MorgensternChristo JivkovFrancesco De VitoHarry LennixJonathan JacksonChristopher CousinsCÃ©cile De FranceRobert FyfeAnthony EdwardsJessica HechtChristopher KovaleskiZoie PalmerRobin TunneyDennis FarinaDaniel BaldwinMaÃ¯ Anh LeOanh NguyenJaran 'See Tao' PetcharoenStÃ©phanie LagardeMonet MazurSean McCannPatricia VelÃ¡squezJay ChandrasekharPaul SoterErik StolhanskeTanja ReichertKevin ChamberlinSara FosterDondre WhitfieldStephen SpinellaAlec MapaTia TexadaEd O'NeillVanessa WilliamsSteve HarveyShari HeadleyKevin SussmanLou RomanoPeter SohnSalli Richardson-WhitfieldWillow SmithJeffrey DeMunnCharlie CoxBrian H. DierkerKate ButlerBrenda BlethynDillon FreasierKevin J. O'ConnorLymari NadalCameron RichardsonJerry SeinfeldLaurie MetcalfNicole SullivanRachel CoveyMakoDan CastellanetaJulie KavnerNancy CartwrightYeardley SmithMax BaldryEmma de CaunesMarg HelgenbergerMark Boone JuniorAmy BrennemanPeter FondaLena OlinCharlie HewsonJohn LoneTory KittlesCourtney Taylor BurnessShyann McClureLyriq BentGreg BrykSinÃ©ad CusackJenny WadeJerry StillerJasmine Jessica AnthonyMadison PettisZoÃ« BellVanessa FerlitoSydney Tamiia PoitierDylan MoranHarish PatelBeverly ToddRob MorrowBijou PhillipsRichard BurgiZachary KnightonKyle DavisDaeg FaerchBrady CorbetDevon GearhartLaurence FoxJackson BondAleksa PalladinoTamala JonesPaul RaeRichard GantRichard PortnowGary DourdanLester SpeightOmar MetwallyMoa KhouasZineb OukachEllia EnglishLonny RossFaune A. ChambersMeg RyanJoBeth WilliamsOlympia DukakisNicholas ArtMargarita LevievaAlex VeadovKhalid AbdallaAtossa LeoniZekeria EbrahimiAhmad Khan MahmoodzadaScott G. AndersonFrank WhaleyMatt LongJeremy HowardDanny StrongDaniel GilliesPruitt Taylor VinceChrysta OlsonStacey DashAlexander Nathan EtelPriyanka XiJordan GarrettBill ClintonHillary ClintonRussell MeansJay TavareJohn AshtonRaymond J. BarrySarah DubrovskySaffron BurrowsUnax UgaldeCatalina Sandino MorenoCharlotte GainsbourgConstantino RomeroBlake WoodruffJulian ChristopherNorah JonesCat PowerNe-YoJermaine WilliamsRyan CartwrightMischa BartonJay VilliersSimone SpinazzeRyan KwantenBob GuntonLaura ReganGina TorresGaspard UllielAaran ThomasMichael Jai WhiteHanyu ZhangRen QuanWang BaoqiangDeng ChaoYuan WenkangLouis Gossett, Jr.Tasha SmithTracee Ellis RossLennie LoftinBen GarantMary BirdsongOliver ReedRuss FegaTaylor MomsenBill IrwinPaul SanchezLari WhitePaul AdelsteinDave SheridanJon AbrahamsEartha KittLauren HollyMark FeuersteinOssie DavisMax CasellaJohn ForsytheJane HorrocksJoely RichardsonTyra BanksJon Bon JoviJean HeywoodJamie DravenRhiana GriffithLewis Fitz-GeraldEdward James OlmosAndre BraugherKim DickensJascha WashingtonSamantha MathisBjÃ¶rkJoel GreyPaulo CostanzoRyan HurstJoel GretschTomÃ¡s MiliÃ¡nRussell G. JonesKristy SwansonSaul RubinekSarah WynterJoshua JacksonHill HarperJohn Patrick AmedoriRosanna ArquetteHuntley RitterIben HjejleLisa BonetMarianne Jean-BaptisteCatherine SutherlandJohnny StrongStephen BaldwinKristen JohnstonJoan CollinsSteven CulpShawn DriscollGuillaume CanetVirginie LedoyenStaffan KihlbomScott FoleyJustin PierceJustine WaddellDiana ScarwidAnna PaquinAlice EvansTim McInnernyGÃ©rard DepardieuJohn AlesAnne BancroftLou Diamond PhillipsMaury ChaykinAnne ArcherLily TomlinChristopher LambertAdrian PaulDonnie YenLisa BarbusciaChris Warren, Jr.Billie WhitelawJustin WhalinZoe McLellanKaryn ParsonsBilly Dee WilliamsJill TalleyBill GoldbergCarroll O'ConnorRobert LoggiaRichard E. GrantJim CarterPamela GidleyWalter MatthauAdam ArkinSusan WardLori HeuringMatthew SettleNathan BextonTess Harper 0\n"
    }
   ],
   "source": [
    "actor = []\n",
    "def unic_genres(string):\n",
    "    arr = string.split('|')\n",
    "    for i in arr:\n",
    "        if i not in actor:\n",
    "            actor.append(i)\n",
    "data['cast'].apply(unic_genres)\n",
    "temp_count = 0\n",
    "genres_max = ''\n",
    "for i in actor:\n",
    "    temp = data[(data['cast'].str.contains(i) != False) &(data['release_year'] == '2012')]['balance'].sum()\n",
    "    if temp < temp_count:\n",
    "        temp_count = temp\n",
    "        genres_max = i\n",
    "    elif temp == temp_count:\n",
    "        genres_max = genres_max + i \n",
    "        temp_count = temp\n",
    "print(genres_max, temp_count)"
   ]
  },
  {
   "cell_type": "code",
   "execution_count": 39,
   "metadata": {},
   "outputs": [],
   "source": [
    "answer_ls.append(3)"
   ]
  },
  {
   "cell_type": "markdown",
   "metadata": {},
   "source": [
    "# 18. Какой актер снялся в большем количестве высокобюджетных фильмов? (в фильмах где бюджет выше среднего по данной выборке)\n",
    "Варианты ответов:\n",
    "1. Tom Cruise\n",
    "2. Mark Wahlberg \n",
    "3. Matt Damon\n",
    "4. Angelina Jolie\n",
    "5. Adam Sandler"
   ]
  },
  {
   "cell_type": "code",
   "execution_count": 40,
   "metadata": {
    "tags": []
   },
   "outputs": [
    {
     "output_type": "stream",
     "name": "stdout",
     "text": "Matt Damon 18\n"
    }
   ],
   "source": [
    "actor = []\n",
    "def unic_genres(string):\n",
    "    arr = string.split('|')\n",
    "    for i in arr:\n",
    "        if i not in actor:\n",
    "            actor.append(i)\n",
    "data['cast'].apply(unic_genres)\n",
    "temp_count = 0\n",
    "genres_max = ''\n",
    "for i in actor:\n",
    "    temp = data[(data['cast'].str.contains(i) != False) &(data['budget'] > data['budget'].mean())]['balance'].count()\n",
    "    if temp > temp_count:\n",
    "        temp_count = temp\n",
    "        genres_max = i\n",
    "    elif temp == temp_count:\n",
    "        genres_max = genres_max + i \n",
    "        temp_count = temp\n",
    "print(genres_max, temp_count)"
   ]
  },
  {
   "cell_type": "code",
   "execution_count": 41,
   "metadata": {},
   "outputs": [],
   "source": [
    "answer_ls.append(3)"
   ]
  },
  {
   "cell_type": "markdown",
   "metadata": {},
   "source": [
    "# 19. В фильмах какого жанра больше всего снимался Nicolas Cage?  \n",
    "Варианты ответа:\n",
    "1. Drama\n",
    "2. Action\n",
    "3. Thriller\n",
    "4. Adventure\n",
    "5. Crime"
   ]
  },
  {
   "cell_type": "code",
   "execution_count": 42,
   "metadata": {
    "tags": []
   },
   "outputs": [
    {
     "output_type": "stream",
     "name": "stdout",
     "text": "Action 17\n"
    }
   ],
   "source": [
    "genres = []\n",
    "def unic_genres(string):\n",
    "    arr = string.split('|')\n",
    "    for i in arr:\n",
    "        if i not in genres:\n",
    "            genres.append(i)\n",
    "data['genres'].apply(unic_genres)\n",
    "genres_max = ''\n",
    "temp_count = 0\n",
    "for i in genres:\n",
    "    temp = data[(data['genres'].str.contains(i) != False) & (data['cast'].str.contains('Nicolas Cage') != False)]['genres'].count()\n",
    "    if temp > temp_count:\n",
    "        temp_count = temp\n",
    "        genres_max = i\n",
    "    elif temp == temp_count:\n",
    "        genres_max = genres_max + i \n",
    "        temp_count = temp\n",
    "print(genres_max, temp_count)"
   ]
  },
  {
   "cell_type": "code",
   "execution_count": 43,
   "metadata": {},
   "outputs": [],
   "source": [
    "answer_ls.append(2)"
   ]
  },
  {
   "cell_type": "markdown",
   "metadata": {},
   "source": [
    "# 20. Какая студия сняла больше всего фильмов?\n",
    "Варианты ответа:\n",
    "1. Universal Pictures (Universal)\n",
    "2. Paramount Pictures\n",
    "3. Columbia Pictures\n",
    "4. Warner Bros\n",
    "5. Twentieth Century Fox Film Corporation"
   ]
  },
  {
   "cell_type": "code",
   "execution_count": 44,
   "metadata": {
    "tags": []
   },
   "outputs": [
    {
     "output_type": "stream",
     "name": "stdout",
     "text": "Universal 185\n"
    }
   ],
   "source": [
    "studios = []\n",
    "def unic_genres(string, arr_for_res):\n",
    "    arr = string.split('|')\n",
    "    for i in arr:\n",
    "        if i not in arr_for_res:\n",
    "            arr_for_res.append(i)\n",
    "data['production_companies'].apply(unic_genres, arr_for_res=studios)\n",
    "genres_max = ''\n",
    "temp_count = 0\n",
    "for i in studios:\n",
    "    temp = data[(data['production_companies'].str.contains(i) != False)]['production_companies'].count()\n",
    "    if temp > temp_count:\n",
    "        temp_count = temp\n",
    "        genres_max = i\n",
    "    elif temp == temp_count:\n",
    "        genres_max = genres_max + i \n",
    "        temp_count = temp\n",
    "print(genres_max, temp_count)"
   ]
  },
  {
   "cell_type": "code",
   "execution_count": 45,
   "metadata": {},
   "outputs": [],
   "source": [
    "answer_ls.append(1)"
   ]
  },
  {
   "cell_type": "markdown",
   "metadata": {},
   "source": [
    "# 21. Какая студия сняла больше всего фильмов в 2015 году?\n",
    "Варианты ответа:\n",
    "1. Universal Pictures\n",
    "2. Paramount Pictures\n",
    "3. Columbia Pictures\n",
    "4. Warner Bros\n",
    "5. Twentieth Century Fox Film Corporation"
   ]
  },
  {
   "cell_type": "code",
   "execution_count": 46,
   "metadata": {
    "tags": []
   },
   "outputs": [
    {
     "output_type": "stream",
     "name": "stdout",
     "text": "0\n"
    }
   ],
   "source": [
    "studios = []\n",
    "def unic_genres(string, arr_for_res):\n",
    "    arr = string.split('|')\n",
    "    for i in arr:\n",
    "        if i not in arr_for_res:\n",
    "            arr_for_res.append(i)\n",
    "data['production_companies'].apply(unic_genres, arr_for_res=studios)\n",
    "genres_max = ''\n",
    "temp_count = 0\n",
    "for i in studios:\n",
    "    temp = data[(data['production_companies'].str.contains(i) != False) & (data['release_year'] == '2015')]['production_companies'].count()\n",
    "    if temp > temp_count:\n",
    "        temp_count = temp\n",
    "        genres_max = i\n",
    "print(genres_max, temp_count)"
   ]
  },
  {
   "cell_type": "code",
   "execution_count": 47,
   "metadata": {},
   "outputs": [],
   "source": [
    "answer_ls.append(4)"
   ]
  },
  {
   "cell_type": "markdown",
   "metadata": {},
   "source": [
    "# 22. Какая студия заработала больше всего денег в жанре комедий за все время?\n",
    "Варианты ответа:\n",
    "1. Warner Bros\n",
    "2. Universal Pictures (Universal)\n",
    "3. Columbia Pictures\n",
    "4. Paramount Pictures\n",
    "5. Walt Disney"
   ]
  },
  {
   "cell_type": "code",
   "execution_count": 48,
   "metadata": {
    "tags": []
   },
   "outputs": [
    {
     "output_type": "stream",
     "name": "stdout",
     "text": "Columbia Pictures 82\n"
    }
   ],
   "source": [
    "studios = []\n",
    "def unic_genres(string, arr_for_res):\n",
    "    arr = string.split('|')\n",
    "    for i in arr:\n",
    "        if i not in arr_for_res:\n",
    "            arr_for_res.append(i)\n",
    "data['production_companies'].apply(unic_genres, arr_for_res=studios)\n",
    "genres_max = ''\n",
    "temp_count = 0\n",
    "for i in studios:\n",
    "    temp = data[(data['production_companies'].str.contains(i) != False) & (data['genres'].str.contains('Comedy')  != False)]['production_companies'].count()\n",
    "    if temp > temp_count:\n",
    "        temp_count = temp\n",
    "        genres_max = i\n",
    "print(genres_max, temp_count)"
   ]
  },
  {
   "cell_type": "code",
   "execution_count": 49,
   "metadata": {},
   "outputs": [],
   "source": [
    "answer_ls.append(3)"
   ]
  },
  {
   "cell_type": "markdown",
   "metadata": {},
   "source": [
    "# 23. Какая студия заработала больше всего денег в 2012 году?\n",
    "Варианты ответа:\n",
    "1. Universal Pictures (Universal)\n",
    "2. Warner Bros\n",
    "3. Columbia Pictures\n",
    "4. Paramount Pictures\n",
    "5. Lucasfilm"
   ]
  },
  {
   "cell_type": "code",
   "execution_count": 50,
   "metadata": {
    "tags": []
   },
   "outputs": [
    {
     "output_type": "stream",
     "name": "stdout",
     "text": "0\n"
    }
   ],
   "source": [
    "studios = []\n",
    "def unic_genres(string, arr_for_res):\n",
    "    arr = string.split('|')\n",
    "    for i in arr:\n",
    "        if i not in arr_for_res:\n",
    "            arr_for_res.append(i)\n",
    "data['production_companies'].apply(unic_genres, arr_for_res=studios)\n",
    "genres_max = ''\n",
    "temp_count = 0\n",
    "for i in studios:\n",
    "    temp = data[(data['production_companies'].str.contains(i) != False) & (data['release_year'] == '2012')]['balance'].sum()\n",
    "    if temp > temp_count:\n",
    "        temp_count = temp\n",
    "        genres_max = i\n",
    "print(genres_max, temp_count)"
   ]
  },
  {
   "cell_type": "code",
   "execution_count": 51,
   "metadata": {},
   "outputs": [],
   "source": [
    "answer_ls.append(3)"
   ]
  },
  {
   "cell_type": "markdown",
   "metadata": {},
   "source": [
    "# 24. Самый убыточный фильм от Paramount Pictures\n",
    "Варианты ответа:\n",
    "\n",
    "1. K-19: The Widowmaker tt0267626\n",
    "2. Next tt0435705\n",
    "3. Twisted tt0315297\n",
    "4. The Love Guru tt0811138\n",
    "5. The Fighter tt0964517"
   ]
  },
  {
   "cell_type": "code",
   "execution_count": 52,
   "metadata": {},
   "outputs": [
    {
     "output_type": "execute_result",
     "data": {
      "text/plain": "       imdb_id  popularity     budget   revenue        original_title  \\\n926  tt0267626     0.72233  100000000  35168966  K-19: The Widowmaker   \n\n                                                  cast         director  \\\n926  Harrison Ford|Liam Neeson|Peter Sarsgaard|Joss...  Kathryn Bigelow   \n\n                      tagline  \\\n926  Fate has found its hero.   \n\n                                              overview  runtime  \\\n926  When Russia's first nuclear submarine malfunct...      138   \n\n                     genres  \\\n926  Thriller|Drama|History   \n\n                                  production_companies release_date  \\\n926  Paramount Pictures|Intermedia Films|National G...    7/19/2002   \n\n     vote_count  vote_average  release_year   balance release_month  \n926         146           6.0          2002 -64831034             7  ",
      "text/html": "<div>\n<style scoped>\n    .dataframe tbody tr th:only-of-type {\n        vertical-align: middle;\n    }\n\n    .dataframe tbody tr th {\n        vertical-align: top;\n    }\n\n    .dataframe thead th {\n        text-align: right;\n    }\n</style>\n<table border=\"1\" class=\"dataframe\">\n  <thead>\n    <tr style=\"text-align: right;\">\n      <th></th>\n      <th>imdb_id</th>\n      <th>popularity</th>\n      <th>budget</th>\n      <th>revenue</th>\n      <th>original_title</th>\n      <th>cast</th>\n      <th>director</th>\n      <th>tagline</th>\n      <th>overview</th>\n      <th>runtime</th>\n      <th>genres</th>\n      <th>production_companies</th>\n      <th>release_date</th>\n      <th>vote_count</th>\n      <th>vote_average</th>\n      <th>release_year</th>\n      <th>balance</th>\n      <th>release_month</th>\n    </tr>\n  </thead>\n  <tbody>\n    <tr>\n      <th>926</th>\n      <td>tt0267626</td>\n      <td>0.72233</td>\n      <td>100000000</td>\n      <td>35168966</td>\n      <td>K-19: The Widowmaker</td>\n      <td>Harrison Ford|Liam Neeson|Peter Sarsgaard|Joss...</td>\n      <td>Kathryn Bigelow</td>\n      <td>Fate has found its hero.</td>\n      <td>When Russia's first nuclear submarine malfunct...</td>\n      <td>138</td>\n      <td>Thriller|Drama|History</td>\n      <td>Paramount Pictures|Intermedia Films|National G...</td>\n      <td>7/19/2002</td>\n      <td>146</td>\n      <td>6.0</td>\n      <td>2002</td>\n      <td>-64831034</td>\n      <td>7</td>\n    </tr>\n  </tbody>\n</table>\n</div>"
     },
     "metadata": {},
     "execution_count": 52
    }
   ],
   "source": [
    "temp = data[(data['production_companies'].str.contains('Paramount Pictures') != False)]\n",
    "temp[temp['balance'] == temp['balance'].min()]"
   ]
  },
  {
   "cell_type": "code",
   "execution_count": 53,
   "metadata": {},
   "outputs": [],
   "source": [
    "answer_ls.append(1)"
   ]
  },
  {
   "cell_type": "markdown",
   "metadata": {},
   "source": [
    "# 25. Какой Самый прибыльный год (заработали больше всего)?\n",
    "Варианты ответа:\n",
    "1. 2014\n",
    "2. 2008\n",
    "3. 2012\n",
    "4. 2002\n",
    "5. 2015"
   ]
  },
  {
   "cell_type": "code",
   "execution_count": 54,
   "metadata": {},
   "outputs": [
    {
     "output_type": "execute_result",
     "data": {
      "text/plain": "                  balance\nrelease_year             \n2015          18668572378",
      "text/html": "<div>\n<style scoped>\n    .dataframe tbody tr th:only-of-type {\n        vertical-align: middle;\n    }\n\n    .dataframe tbody tr th {\n        vertical-align: top;\n    }\n\n    .dataframe thead th {\n        text-align: right;\n    }\n</style>\n<table border=\"1\" class=\"dataframe\">\n  <thead>\n    <tr style=\"text-align: right;\">\n      <th></th>\n      <th>balance</th>\n    </tr>\n    <tr>\n      <th>release_year</th>\n      <th></th>\n    </tr>\n  </thead>\n  <tbody>\n    <tr>\n      <th>2015</th>\n      <td>18668572378</td>\n    </tr>\n  </tbody>\n</table>\n</div>"
     },
     "metadata": {},
     "execution_count": 54
    }
   ],
   "source": [
    "year = data.pivot_table(\n",
    "values='balance',\n",
    "index='release_year',\n",
    "columns=None,\n",
    "aggfunc='sum')\n",
    "year[year['balance'] == year['balance'].max()]"
   ]
  },
  {
   "cell_type": "code",
   "execution_count": 55,
   "metadata": {},
   "outputs": [],
   "source": [
    "answer_ls.append(5)"
   ]
  },
  {
   "cell_type": "markdown",
   "metadata": {},
   "source": [
    "# 26. Какой Самый прибыльный год для студии Warner Bros?\n",
    "Варианты ответа:\n",
    "1. 2014\n",
    "2. 2008\n",
    "3. 2012\n",
    "4. 2010\n",
    "5. 2015"
   ]
  },
  {
   "cell_type": "code",
   "execution_count": 56,
   "metadata": {},
   "outputs": [
    {
     "output_type": "execute_result",
     "data": {
      "text/plain": "              popularity      budget     revenue  runtime  vote_count  \\\nrelease_year                                                            \n2000            7.641420   572900000  1025531386     1333        2163   \n2006           14.476679   901000000  1521170743     1504        7291   \n2015           30.133961   820800003  1691168351     1358       11574   \n2002           15.070224   680000000  1702709901     1281        5851   \n2012           12.593044   611500000  1869520056      579       11729   \n2001           21.133885   923000000  2266545668     1571       10494   \n2005           22.482668   861000000  2412980298     1193       13203   \n2004           21.125522  1100000000  2731933725     1624       10964   \n2013           22.296746   963500000  2599953400     1100       19352   \n2009           24.294407   915500000  2737954136     1305       16473   \n2003           17.562360   890000000  2745493377     1085        8516   \n2011           23.499629   974000000  2845393682     1248       15559   \n2010           26.441327  1034000000  3008712985     1421       20286   \n2008           23.986384   916000000  3050595031     1366       17455   \n2007           22.396365   982000000  3183675217     1721       15760   \n2014           63.903623   947600000  3243064519     1576       24855   \n\n              vote_average     balance  \nrelease_year                            \n2000                  68.0   452631386  \n2006                  81.0   620170743  \n2015                  75.9   870368348  \n2002                  70.6  1022709901  \n2012                  30.0  1258020056  \n2001                  83.6  1343545668  \n2005                  63.0  1551980298  \n2004                  78.7  1631933725  \n2013                  59.9  1636453400  \n2009                  67.9  1822454136  \n2003                  56.7  1855493377  \n2011                  68.3  1871393682  \n2010                  79.6  1974712985  \n2008                  72.0  2134595031  \n2007                  95.4  2201675217  \n2014                  88.9  2295464519  ",
      "text/html": "<div>\n<style scoped>\n    .dataframe tbody tr th:only-of-type {\n        vertical-align: middle;\n    }\n\n    .dataframe tbody tr th {\n        vertical-align: top;\n    }\n\n    .dataframe thead th {\n        text-align: right;\n    }\n</style>\n<table border=\"1\" class=\"dataframe\">\n  <thead>\n    <tr style=\"text-align: right;\">\n      <th></th>\n      <th>popularity</th>\n      <th>budget</th>\n      <th>revenue</th>\n      <th>runtime</th>\n      <th>vote_count</th>\n      <th>vote_average</th>\n      <th>balance</th>\n    </tr>\n    <tr>\n      <th>release_year</th>\n      <th></th>\n      <th></th>\n      <th></th>\n      <th></th>\n      <th></th>\n      <th></th>\n      <th></th>\n    </tr>\n  </thead>\n  <tbody>\n    <tr>\n      <th>2000</th>\n      <td>7.641420</td>\n      <td>572900000</td>\n      <td>1025531386</td>\n      <td>1333</td>\n      <td>2163</td>\n      <td>68.0</td>\n      <td>452631386</td>\n    </tr>\n    <tr>\n      <th>2006</th>\n      <td>14.476679</td>\n      <td>901000000</td>\n      <td>1521170743</td>\n      <td>1504</td>\n      <td>7291</td>\n      <td>81.0</td>\n      <td>620170743</td>\n    </tr>\n    <tr>\n      <th>2015</th>\n      <td>30.133961</td>\n      <td>820800003</td>\n      <td>1691168351</td>\n      <td>1358</td>\n      <td>11574</td>\n      <td>75.9</td>\n      <td>870368348</td>\n    </tr>\n    <tr>\n      <th>2002</th>\n      <td>15.070224</td>\n      <td>680000000</td>\n      <td>1702709901</td>\n      <td>1281</td>\n      <td>5851</td>\n      <td>70.6</td>\n      <td>1022709901</td>\n    </tr>\n    <tr>\n      <th>2012</th>\n      <td>12.593044</td>\n      <td>611500000</td>\n      <td>1869520056</td>\n      <td>579</td>\n      <td>11729</td>\n      <td>30.0</td>\n      <td>1258020056</td>\n    </tr>\n    <tr>\n      <th>2001</th>\n      <td>21.133885</td>\n      <td>923000000</td>\n      <td>2266545668</td>\n      <td>1571</td>\n      <td>10494</td>\n      <td>83.6</td>\n      <td>1343545668</td>\n    </tr>\n    <tr>\n      <th>2005</th>\n      <td>22.482668</td>\n      <td>861000000</td>\n      <td>2412980298</td>\n      <td>1193</td>\n      <td>13203</td>\n      <td>63.0</td>\n      <td>1551980298</td>\n    </tr>\n    <tr>\n      <th>2004</th>\n      <td>21.125522</td>\n      <td>1100000000</td>\n      <td>2731933725</td>\n      <td>1624</td>\n      <td>10964</td>\n      <td>78.7</td>\n      <td>1631933725</td>\n    </tr>\n    <tr>\n      <th>2013</th>\n      <td>22.296746</td>\n      <td>963500000</td>\n      <td>2599953400</td>\n      <td>1100</td>\n      <td>19352</td>\n      <td>59.9</td>\n      <td>1636453400</td>\n    </tr>\n    <tr>\n      <th>2009</th>\n      <td>24.294407</td>\n      <td>915500000</td>\n      <td>2737954136</td>\n      <td>1305</td>\n      <td>16473</td>\n      <td>67.9</td>\n      <td>1822454136</td>\n    </tr>\n    <tr>\n      <th>2003</th>\n      <td>17.562360</td>\n      <td>890000000</td>\n      <td>2745493377</td>\n      <td>1085</td>\n      <td>8516</td>\n      <td>56.7</td>\n      <td>1855493377</td>\n    </tr>\n    <tr>\n      <th>2011</th>\n      <td>23.499629</td>\n      <td>974000000</td>\n      <td>2845393682</td>\n      <td>1248</td>\n      <td>15559</td>\n      <td>68.3</td>\n      <td>1871393682</td>\n    </tr>\n    <tr>\n      <th>2010</th>\n      <td>26.441327</td>\n      <td>1034000000</td>\n      <td>3008712985</td>\n      <td>1421</td>\n      <td>20286</td>\n      <td>79.6</td>\n      <td>1974712985</td>\n    </tr>\n    <tr>\n      <th>2008</th>\n      <td>23.986384</td>\n      <td>916000000</td>\n      <td>3050595031</td>\n      <td>1366</td>\n      <td>17455</td>\n      <td>72.0</td>\n      <td>2134595031</td>\n    </tr>\n    <tr>\n      <th>2007</th>\n      <td>22.396365</td>\n      <td>982000000</td>\n      <td>3183675217</td>\n      <td>1721</td>\n      <td>15760</td>\n      <td>95.4</td>\n      <td>2201675217</td>\n    </tr>\n    <tr>\n      <th>2014</th>\n      <td>63.903623</td>\n      <td>947600000</td>\n      <td>3243064519</td>\n      <td>1576</td>\n      <td>24855</td>\n      <td>88.9</td>\n      <td>2295464519</td>\n    </tr>\n  </tbody>\n</table>\n</div>"
     },
     "metadata": {},
     "execution_count": 56
    }
   ],
   "source": [
    "temp = data[(data['production_companies'].str.contains('Warner Bros') != False)]\n",
    "group = temp.groupby(['release_year']).sum()\n",
    "group.sort_values(by='balance')"
   ]
  },
  {
   "cell_type": "code",
   "execution_count": 57,
   "metadata": {},
   "outputs": [],
   "source": [
    "answer_ls.append(1)"
   ]
  },
  {
   "cell_type": "markdown",
   "metadata": {},
   "source": [
    "# 27. В каком месяце за все годы суммарно вышло больше всего фильмов?\n",
    "Варианты ответа:\n",
    "1. Январь\n",
    "2. Июнь\n",
    "3. Декабрь\n",
    "4. Сентябрь\n",
    "5. Май"
   ]
  },
  {
   "cell_type": "code",
   "execution_count": 58,
   "metadata": {},
   "outputs": [
    {
     "output_type": "execute_result",
     "data": {
      "text/plain": "               imdb_id  popularity  budget  revenue  original_title  cast  \\\nrelease_month                                                               \n1                  110         110     110      110             110   110   \n10                 186         186     186      186             186   186   \n11                 146         146     146      146             146   146   \n12                 191         191     191      191             191   191   \n2                  135         135     135      135             135   135   \n3                  156         156     156      156             156   156   \n4                  149         149     149      149             149   149   \n5                  140         140     140      140             140   140   \n6                  147         147     147      147             147   147   \n7                  142         142     142      142             142   142   \n8                  161         161     161      161             161   161   \n9                  227         227     227      227             227   227   \n\n               director  tagline  overview  runtime  genres  \\\nrelease_month                                                 \n1                   110      110       110      110     110   \n10                  186      186       186      186     186   \n11                  146      146       146      146     146   \n12                  191      191       191      191     191   \n2                   135      135       135      135     135   \n3                   156      156       156      156     156   \n4                   149      149       149      149     149   \n5                   140      140       140      140     140   \n6                   147      147       147      147     147   \n7                   142      142       142      142     142   \n8                   161      161       161      161     161   \n9                   227      227       227      227     227   \n\n               production_companies  release_date  vote_count  vote_average  \\\nrelease_month                                                                 \n1                               110           110         110           110   \n10                              186           186         186           186   \n11                              146           146         146           146   \n12                              191           191         191           191   \n2                               135           135         135           135   \n3                               156           156         156           156   \n4                               149           149         149           149   \n5                               140           140         140           140   \n6                               147           147         147           147   \n7                               142           142         142           142   \n8                               161           161         161           161   \n9                               227           227         227           227   \n\n               release_year  balance  \nrelease_month                         \n1                       110      110  \n10                      186      186  \n11                      146      146  \n12                      191      191  \n2                       135      135  \n3                       156      156  \n4                       149      149  \n5                       140      140  \n6                       147      147  \n7                       142      142  \n8                       161      161  \n9                       227      227  ",
      "text/html": "<div>\n<style scoped>\n    .dataframe tbody tr th:only-of-type {\n        vertical-align: middle;\n    }\n\n    .dataframe tbody tr th {\n        vertical-align: top;\n    }\n\n    .dataframe thead th {\n        text-align: right;\n    }\n</style>\n<table border=\"1\" class=\"dataframe\">\n  <thead>\n    <tr style=\"text-align: right;\">\n      <th></th>\n      <th>imdb_id</th>\n      <th>popularity</th>\n      <th>budget</th>\n      <th>revenue</th>\n      <th>original_title</th>\n      <th>cast</th>\n      <th>director</th>\n      <th>tagline</th>\n      <th>overview</th>\n      <th>runtime</th>\n      <th>genres</th>\n      <th>production_companies</th>\n      <th>release_date</th>\n      <th>vote_count</th>\n      <th>vote_average</th>\n      <th>release_year</th>\n      <th>balance</th>\n    </tr>\n    <tr>\n      <th>release_month</th>\n      <th></th>\n      <th></th>\n      <th></th>\n      <th></th>\n      <th></th>\n      <th></th>\n      <th></th>\n      <th></th>\n      <th></th>\n      <th></th>\n      <th></th>\n      <th></th>\n      <th></th>\n      <th></th>\n      <th></th>\n      <th></th>\n      <th></th>\n    </tr>\n  </thead>\n  <tbody>\n    <tr>\n      <th>1</th>\n      <td>110</td>\n      <td>110</td>\n      <td>110</td>\n      <td>110</td>\n      <td>110</td>\n      <td>110</td>\n      <td>110</td>\n      <td>110</td>\n      <td>110</td>\n      <td>110</td>\n      <td>110</td>\n      <td>110</td>\n      <td>110</td>\n      <td>110</td>\n      <td>110</td>\n      <td>110</td>\n      <td>110</td>\n    </tr>\n    <tr>\n      <th>10</th>\n      <td>186</td>\n      <td>186</td>\n      <td>186</td>\n      <td>186</td>\n      <td>186</td>\n      <td>186</td>\n      <td>186</td>\n      <td>186</td>\n      <td>186</td>\n      <td>186</td>\n      <td>186</td>\n      <td>186</td>\n      <td>186</td>\n      <td>186</td>\n      <td>186</td>\n      <td>186</td>\n      <td>186</td>\n    </tr>\n    <tr>\n      <th>11</th>\n      <td>146</td>\n      <td>146</td>\n      <td>146</td>\n      <td>146</td>\n      <td>146</td>\n      <td>146</td>\n      <td>146</td>\n      <td>146</td>\n      <td>146</td>\n      <td>146</td>\n      <td>146</td>\n      <td>146</td>\n      <td>146</td>\n      <td>146</td>\n      <td>146</td>\n      <td>146</td>\n      <td>146</td>\n    </tr>\n    <tr>\n      <th>12</th>\n      <td>191</td>\n      <td>191</td>\n      <td>191</td>\n      <td>191</td>\n      <td>191</td>\n      <td>191</td>\n      <td>191</td>\n      <td>191</td>\n      <td>191</td>\n      <td>191</td>\n      <td>191</td>\n      <td>191</td>\n      <td>191</td>\n      <td>191</td>\n      <td>191</td>\n      <td>191</td>\n      <td>191</td>\n    </tr>\n    <tr>\n      <th>2</th>\n      <td>135</td>\n      <td>135</td>\n      <td>135</td>\n      <td>135</td>\n      <td>135</td>\n      <td>135</td>\n      <td>135</td>\n      <td>135</td>\n      <td>135</td>\n      <td>135</td>\n      <td>135</td>\n      <td>135</td>\n      <td>135</td>\n      <td>135</td>\n      <td>135</td>\n      <td>135</td>\n      <td>135</td>\n    </tr>\n    <tr>\n      <th>3</th>\n      <td>156</td>\n      <td>156</td>\n      <td>156</td>\n      <td>156</td>\n      <td>156</td>\n      <td>156</td>\n      <td>156</td>\n      <td>156</td>\n      <td>156</td>\n      <td>156</td>\n      <td>156</td>\n      <td>156</td>\n      <td>156</td>\n      <td>156</td>\n      <td>156</td>\n      <td>156</td>\n      <td>156</td>\n    </tr>\n    <tr>\n      <th>4</th>\n      <td>149</td>\n      <td>149</td>\n      <td>149</td>\n      <td>149</td>\n      <td>149</td>\n      <td>149</td>\n      <td>149</td>\n      <td>149</td>\n      <td>149</td>\n      <td>149</td>\n      <td>149</td>\n      <td>149</td>\n      <td>149</td>\n      <td>149</td>\n      <td>149</td>\n      <td>149</td>\n      <td>149</td>\n    </tr>\n    <tr>\n      <th>5</th>\n      <td>140</td>\n      <td>140</td>\n      <td>140</td>\n      <td>140</td>\n      <td>140</td>\n      <td>140</td>\n      <td>140</td>\n      <td>140</td>\n      <td>140</td>\n      <td>140</td>\n      <td>140</td>\n      <td>140</td>\n      <td>140</td>\n      <td>140</td>\n      <td>140</td>\n      <td>140</td>\n      <td>140</td>\n    </tr>\n    <tr>\n      <th>6</th>\n      <td>147</td>\n      <td>147</td>\n      <td>147</td>\n      <td>147</td>\n      <td>147</td>\n      <td>147</td>\n      <td>147</td>\n      <td>147</td>\n      <td>147</td>\n      <td>147</td>\n      <td>147</td>\n      <td>147</td>\n      <td>147</td>\n      <td>147</td>\n      <td>147</td>\n      <td>147</td>\n      <td>147</td>\n    </tr>\n    <tr>\n      <th>7</th>\n      <td>142</td>\n      <td>142</td>\n      <td>142</td>\n      <td>142</td>\n      <td>142</td>\n      <td>142</td>\n      <td>142</td>\n      <td>142</td>\n      <td>142</td>\n      <td>142</td>\n      <td>142</td>\n      <td>142</td>\n      <td>142</td>\n      <td>142</td>\n      <td>142</td>\n      <td>142</td>\n      <td>142</td>\n    </tr>\n    <tr>\n      <th>8</th>\n      <td>161</td>\n      <td>161</td>\n      <td>161</td>\n      <td>161</td>\n      <td>161</td>\n      <td>161</td>\n      <td>161</td>\n      <td>161</td>\n      <td>161</td>\n      <td>161</td>\n      <td>161</td>\n      <td>161</td>\n      <td>161</td>\n      <td>161</td>\n      <td>161</td>\n      <td>161</td>\n      <td>161</td>\n    </tr>\n    <tr>\n      <th>9</th>\n      <td>227</td>\n      <td>227</td>\n      <td>227</td>\n      <td>227</td>\n      <td>227</td>\n      <td>227</td>\n      <td>227</td>\n      <td>227</td>\n      <td>227</td>\n      <td>227</td>\n      <td>227</td>\n      <td>227</td>\n      <td>227</td>\n      <td>227</td>\n      <td>227</td>\n      <td>227</td>\n      <td>227</td>\n    </tr>\n  </tbody>\n</table>\n</div>"
     },
     "metadata": {},
     "execution_count": 58
    }
   ],
   "source": [
    "data.groupby('release_month').count()"
   ]
  },
  {
   "cell_type": "code",
   "execution_count": 59,
   "metadata": {},
   "outputs": [],
   "source": [
    "answer_ls.append(4)"
   ]
  },
  {
   "cell_type": "markdown",
   "metadata": {},
   "source": [
    "# 28. Сколько суммарно вышло фильмов летом? (за июнь, июль, август)\n",
    "Варианты ответа:\n",
    "1. 345\n",
    "2. 450\n",
    "3. 478\n",
    "4. 523\n",
    "5. 381"
   ]
  },
  {
   "cell_type": "code",
   "execution_count": 60,
   "metadata": {},
   "outputs": [
    {
     "output_type": "execute_result",
     "data": {
      "text/plain": "450"
     },
     "metadata": {},
     "execution_count": 60
    }
   ],
   "source": [
    "group = data.groupby('release_month').count()\n",
    "group.loc['6']['imdb_id'] + group.loc['7']['imdb_id'] + group.loc['8']['imdb_id']"
   ]
  },
  {
   "cell_type": "code",
   "execution_count": 61,
   "metadata": {},
   "outputs": [],
   "source": [
    "answer_ls.append(2)"
   ]
  },
  {
   "cell_type": "markdown",
   "metadata": {},
   "source": [
    "# 29. Какой режисер выпускает (суммарно по годам) больше всего фильмов зимой?\n",
    "Варианты ответов:\n",
    "1. Steven Soderbergh\n",
    "2. Christopher Nolan\n",
    "3. Clint Eastwood\n",
    "4. Ridley Scott\n",
    "5. Peter Jackson"
   ]
  },
  {
   "cell_type": "code",
   "execution_count": 62,
   "metadata": {
    "tags": []
   },
   "outputs": [
    {
     "output_type": "stream",
     "name": "stdout",
     "text": "Peter Jackson 7\n"
    }
   ],
   "source": [
    "director = []\n",
    "def unic_genres(string):\n",
    "    arr = string.split('|')\n",
    "    for i in arr:\n",
    "        if i not in director:\n",
    "            director.append(i)\n",
    "data['director'].apply(unic_genres)\n",
    "temp_count = 0\n",
    "temp_data = data.query('release_month in [\"12\",\"1\",\"2\"]')\n",
    "\n",
    "for i in director:\n",
    "    temp = temp_data[(temp_data['director'].str.contains(i) != False)]['balance'].count()\n",
    "    if temp > temp_count:\n",
    "        temp_count = temp\n",
    "        genres_max = i\n",
    "    elif temp == temp_count:\n",
    "        genres_max = genres_max + i \n",
    "        temp_count = temp\n",
    "print(genres_max, temp_count)"
   ]
  },
  {
   "cell_type": "code",
   "execution_count": 63,
   "metadata": {},
   "outputs": [],
   "source": [
    "answer_ls.append(5)"
   ]
  },
  {
   "cell_type": "markdown",
   "metadata": {},
   "source": [
    "# 30. Какой месяц чаще всего по годам самый прибыльный?\n",
    "Варианты ответа:\n",
    "1. Январь\n",
    "2. Июнь\n",
    "3. Декабрь\n",
    "4. Сентябрь\n",
    "5. Май"
   ]
  },
  {
   "cell_type": "code",
   "execution_count": 64,
   "metadata": {},
   "outputs": [
    {
     "output_type": "execute_result",
     "data": {
      "text/plain": "release_month\n1      5396885454\n2      8854574425\n8      9640610446\n9     10878921041\n4     12876005537\n10    12994907859\n3     13720216540\n7     18307895020\n11    18654155473\n5     25039516141\n12    26563071474\n6     27551262500\nName: balance, dtype: int64"
     },
     "metadata": {},
     "execution_count": 64
    }
   ],
   "source": [
    "temp = data.groupby('release_month').sum()\n",
    "temp['balance'].sort_values()"
   ]
  },
  {
   "cell_type": "code",
   "execution_count": 65,
   "metadata": {},
   "outputs": [],
   "source": [
    "answer_ls.append(2)"
   ]
  },
  {
   "cell_type": "markdown",
   "metadata": {},
   "source": [
    "# 31. Названия фильмов какой студии в среднем самые длинные по количеству символов?\n",
    "Варианты ответа:\n",
    "1. Universal Pictures (Universal)\n",
    "2. Warner Bros\n",
    "3. Jim Henson Company, The\n",
    "4. Paramount Pictures\n",
    "5. Four By Two Productions"
   ]
  },
  {
   "cell_type": "code",
   "execution_count": 66,
   "metadata": {},
   "outputs": [
    {
     "output_type": "execute_result",
     "data": {
      "text/plain": "                            name  count\n932           Ixtlan Productions    2.0\n934   Global Entertainment Group    2.0\n1263             XM2 Productions    2.0\n1339       Everest Entertainment    3.0\n153         Berlanti Productions    3.0\n...                          ...    ...\n535                 Polsky Films   46.0\n441    Museum Canada Productions   46.0\n1181               Dos Corazones   47.0\n382      Jim Henson Company, The   59.0\n1465     Four By Two Productions   83.0\n\n[1728 rows x 2 columns]",
      "text/html": "<div>\n<style scoped>\n    .dataframe tbody tr th:only-of-type {\n        vertical-align: middle;\n    }\n\n    .dataframe tbody tr th {\n        vertical-align: top;\n    }\n\n    .dataframe thead th {\n        text-align: right;\n    }\n</style>\n<table border=\"1\" class=\"dataframe\">\n  <thead>\n    <tr style=\"text-align: right;\">\n      <th></th>\n      <th>name</th>\n      <th>count</th>\n    </tr>\n  </thead>\n  <tbody>\n    <tr>\n      <th>932</th>\n      <td>Ixtlan Productions</td>\n      <td>2.0</td>\n    </tr>\n    <tr>\n      <th>934</th>\n      <td>Global Entertainment Group</td>\n      <td>2.0</td>\n    </tr>\n    <tr>\n      <th>1263</th>\n      <td>XM2 Productions</td>\n      <td>2.0</td>\n    </tr>\n    <tr>\n      <th>1339</th>\n      <td>Everest Entertainment</td>\n      <td>3.0</td>\n    </tr>\n    <tr>\n      <th>153</th>\n      <td>Berlanti Productions</td>\n      <td>3.0</td>\n    </tr>\n    <tr>\n      <th>...</th>\n      <td>...</td>\n      <td>...</td>\n    </tr>\n    <tr>\n      <th>535</th>\n      <td>Polsky Films</td>\n      <td>46.0</td>\n    </tr>\n    <tr>\n      <th>441</th>\n      <td>Museum Canada Productions</td>\n      <td>46.0</td>\n    </tr>\n    <tr>\n      <th>1181</th>\n      <td>Dos Corazones</td>\n      <td>47.0</td>\n    </tr>\n    <tr>\n      <th>382</th>\n      <td>Jim Henson Company, The</td>\n      <td>59.0</td>\n    </tr>\n    <tr>\n      <th>1465</th>\n      <td>Four By Two Productions</td>\n      <td>83.0</td>\n    </tr>\n  </tbody>\n</table>\n<p>1728 rows × 2 columns</p>\n</div>"
     },
     "metadata": {},
     "execution_count": 66
    }
   ],
   "source": [
    "studios = []\n",
    "def unic_genres(string, arr_for_res):\n",
    "    arr = string.split('|')\n",
    "    for i in arr:\n",
    "        if i not in arr_for_res:\n",
    "            arr_for_res.append(i)\n",
    "data['production_companies'].apply(unic_genres, arr_for_res=studios)\n",
    "genres_max = ''\n",
    "temp_count = 0\n",
    "arr = []\n",
    "data['len_title'] = data['original_title'].apply(lambda x: len(x))\n",
    "for i in studios:\n",
    "    temp = data[(data['production_companies'].str.contains(i) != False)]['len_title'].mean()\n",
    "    if pd.isna(temp):\n",
    "        continue\n",
    "    arr.append([i, temp])\n",
    "a = pd.DataFrame(arr, columns=['name', 'count'])\n",
    "a.sort_values(by='count')"
   ]
  },
  {
   "cell_type": "code",
   "execution_count": 67,
   "metadata": {},
   "outputs": [],
   "source": [
    "answer_ls.append(5)"
   ]
  },
  {
   "cell_type": "markdown",
   "metadata": {},
   "source": [
    "# 32. Названия фильмов какой студии в среднем самые длинные по количеству слов?\n",
    "Варианты ответа:\n",
    "1. Universal Pictures (Universal)\n",
    "2. Warner Bros\n",
    "3. Jim Henson Company, The\n",
    "4. Paramount Pictures\n",
    "5. Four By Two Productions"
   ]
  },
  {
   "cell_type": "code",
   "execution_count": 68,
   "metadata": {},
   "outputs": [
    {
     "output_type": "execute_result",
     "data": {
      "text/plain": "                         name  count\n334                 Jolie Pas    1.0\n1327         Pinewood Studios    1.0\n1328        Metrol Technology    1.0\n893            Toff Guy Films    1.0\n892             Rifkin-Eberts    1.0\n...                       ...    ...\n535              Polsky Films    9.0\n704   The Saul Zaentz Company    9.0\n1181            Dos Corazones    9.0\n382   Jim Henson Company, The   10.0\n1465  Four By Two Productions   12.0\n\n[1728 rows x 2 columns]",
      "text/html": "<div>\n<style scoped>\n    .dataframe tbody tr th:only-of-type {\n        vertical-align: middle;\n    }\n\n    .dataframe tbody tr th {\n        vertical-align: top;\n    }\n\n    .dataframe thead th {\n        text-align: right;\n    }\n</style>\n<table border=\"1\" class=\"dataframe\">\n  <thead>\n    <tr style=\"text-align: right;\">\n      <th></th>\n      <th>name</th>\n      <th>count</th>\n    </tr>\n  </thead>\n  <tbody>\n    <tr>\n      <th>334</th>\n      <td>Jolie Pas</td>\n      <td>1.0</td>\n    </tr>\n    <tr>\n      <th>1327</th>\n      <td>Pinewood Studios</td>\n      <td>1.0</td>\n    </tr>\n    <tr>\n      <th>1328</th>\n      <td>Metrol Technology</td>\n      <td>1.0</td>\n    </tr>\n    <tr>\n      <th>893</th>\n      <td>Toff Guy Films</td>\n      <td>1.0</td>\n    </tr>\n    <tr>\n      <th>892</th>\n      <td>Rifkin-Eberts</td>\n      <td>1.0</td>\n    </tr>\n    <tr>\n      <th>...</th>\n      <td>...</td>\n      <td>...</td>\n    </tr>\n    <tr>\n      <th>535</th>\n      <td>Polsky Films</td>\n      <td>9.0</td>\n    </tr>\n    <tr>\n      <th>704</th>\n      <td>The Saul Zaentz Company</td>\n      <td>9.0</td>\n    </tr>\n    <tr>\n      <th>1181</th>\n      <td>Dos Corazones</td>\n      <td>9.0</td>\n    </tr>\n    <tr>\n      <th>382</th>\n      <td>Jim Henson Company, The</td>\n      <td>10.0</td>\n    </tr>\n    <tr>\n      <th>1465</th>\n      <td>Four By Two Productions</td>\n      <td>12.0</td>\n    </tr>\n  </tbody>\n</table>\n<p>1728 rows × 2 columns</p>\n</div>"
     },
     "metadata": {},
     "execution_count": 68
    }
   ],
   "source": [
    "studios = []\n",
    "def unic_genres(string, arr_for_res):\n",
    "    arr = string.split('|')\n",
    "    for i in arr:\n",
    "        if i not in arr_for_res:\n",
    "            arr_for_res.append(i)\n",
    "data['production_companies'].apply(unic_genres, arr_for_res=studios)\n",
    "genres_max = ''\n",
    "temp_count = 0\n",
    "arr = []\n",
    "data['len_title'] = data['original_title'].apply(lambda x: len(x.split()))\n",
    "for i in studios:\n",
    "    temp = data[(data['production_companies'].str.contains(i) != False)]['len_title'].mean()\n",
    "    if pd.isna(temp):\n",
    "        continue\n",
    "    arr.append([i, temp])\n",
    "a = pd.DataFrame(arr, columns=['name', 'count'])\n",
    "a.sort_values(by='count')"
   ]
  },
  {
   "cell_type": "code",
   "execution_count": 69,
   "metadata": {},
   "outputs": [],
   "source": [
    "answer_ls.append(5)"
   ]
  },
  {
   "cell_type": "markdown",
   "metadata": {},
   "source": [
    "# 33. Сколько разных слов используется в названиях фильмов?(без учета регистра)\n",
    "Варианты ответа:\n",
    "1. 6540\n",
    "2. 1002\n",
    "3. 2461\n",
    "4. 28304\n",
    "5. 3432"
   ]
  },
  {
   "cell_type": "code",
   "execution_count": 70,
   "metadata": {},
   "outputs": [
    {
     "output_type": "execute_result",
     "data": {
      "text/plain": "2461"
     },
     "metadata": {},
     "execution_count": 70
    }
   ],
   "source": [
    "words = []\n",
    "def unic_genres(string, arr_for_res):\n",
    "    arr = string.split()\n",
    "    for i in arr:\n",
    "        if i.lower() not in arr_for_res:\n",
    "            arr_for_res.append(i.lower())\n",
    "data['original_title'].apply(unic_genres, arr_for_res=words)\n",
    "len(words)"
   ]
  },
  {
   "cell_type": "code",
   "execution_count": 71,
   "metadata": {},
   "outputs": [],
   "source": [
    "answer_ls.append(3)"
   ]
  },
  {
   "cell_type": "markdown",
   "metadata": {},
   "source": [
    "# 34. Какие фильмы входят в 1 процент лучших по рейтингу?\n",
    "Варианты ответа:\n",
    "1. Inside Out, Gone Girl, 12 Years a Slave\n",
    "2. BloodRayne, The Adventures of Rocky & Bullwinkle\n",
    "3. The Lord of the Rings: The Return of the King\n",
    "4. 300, Lucky Number Slevin"
   ]
  },
  {
   "cell_type": "code",
   "execution_count": 72,
   "metadata": {},
   "outputs": [
    {
     "output_type": "execute_result",
     "data": {
      "text/plain": "       imdb_id  popularity     budget     revenue      original_title  \\\n9    tt2096673    6.326804  175000000   853708609          Inside Out   \n34   tt3170832    3.557846    6000000    35401758                Room   \n118  tt0816692   24.949134  165000000   621752480        Interstellar   \n125  tt2084970    8.110711   14000000   233555708  The Imitation Game   \n600  tt0468569    8.466668  185000000  1001921825     The Dark Knight   \n\n                                                  cast           director  \\\n9    Amy Poehler|Phyllis Smith|Richard Kind|Bill Ha...        Pete Docter   \n34   Brie Larson|Jacob Tremblay|Joan Allen|Sean Bri...   Lenny Abrahamson   \n118  Matthew McConaughey|Jessica Chastain|Anne Hath...  Christopher Nolan   \n125  Benedict Cumberbatch|Keira Knightley|Matthew G...      Morten Tyldum   \n600  Christian Bale|Michael Caine|Heath Ledger|Aaro...  Christopher Nolan   \n\n                                               tagline  \\\n9             Meet the little voices inside your head.   \n34                            Love knows no boundaries   \n118  Mankind was born on Earth. It was never meant ...   \n125  The true enigma was the man who cracked the code.   \n600                                    Why So Serious?   \n\n                                              overview  runtime  \\\n9    Growing up can be a bumpy road, and it's no ex...       94   \n34   Jack is a young boy of 5 years old who has liv...      117   \n118  Interstellar chronicles the adventures of a gr...      169   \n125  Based on the real life story of legendary cryp...      113   \n600  Batman raises the stakes in his war on crime. ...      152   \n\n                              genres  \\\n9            Comedy|Animation|Family   \n34                    Drama|Thriller   \n118  Adventure|Drama|Science Fiction   \n125       History|Drama|Thriller|War   \n600      Drama|Action|Crime|Thriller   \n\n                                  production_companies release_date  \\\n9    Walt Disney Pictures|Pixar Animation Studios|W...     6/9/2015   \n34   Element Pictures|No Trace Camping|A24|Duperele...   10/16/2015   \n118  Paramount Pictures|Legendary Pictures|Warner B...    11/5/2014   \n125             Black Bear Pictures|Bristol Automotive   11/14/2014   \n600  DC Comics|Legendary Pictures|Warner Bros.|Syncopy    7/16/2008   \n\n     vote_count  vote_average  release_year    balance release_month  \\\n9          3935           8.0          2015  678708609             6   \n34         1520           8.0          2015   29401758            10   \n118        6498           8.0          2014  456752480            11   \n125        3478           8.0          2014  219555708            11   \n600        8432           8.1          2008  816921825             7   \n\n     len_title  \n9            2  \n34           1  \n118          1  \n125          3  \n600          3  ",
      "text/html": "<div>\n<style scoped>\n    .dataframe tbody tr th:only-of-type {\n        vertical-align: middle;\n    }\n\n    .dataframe tbody tr th {\n        vertical-align: top;\n    }\n\n    .dataframe thead th {\n        text-align: right;\n    }\n</style>\n<table border=\"1\" class=\"dataframe\">\n  <thead>\n    <tr style=\"text-align: right;\">\n      <th></th>\n      <th>imdb_id</th>\n      <th>popularity</th>\n      <th>budget</th>\n      <th>revenue</th>\n      <th>original_title</th>\n      <th>cast</th>\n      <th>director</th>\n      <th>tagline</th>\n      <th>overview</th>\n      <th>runtime</th>\n      <th>genres</th>\n      <th>production_companies</th>\n      <th>release_date</th>\n      <th>vote_count</th>\n      <th>vote_average</th>\n      <th>release_year</th>\n      <th>balance</th>\n      <th>release_month</th>\n      <th>len_title</th>\n    </tr>\n  </thead>\n  <tbody>\n    <tr>\n      <th>9</th>\n      <td>tt2096673</td>\n      <td>6.326804</td>\n      <td>175000000</td>\n      <td>853708609</td>\n      <td>Inside Out</td>\n      <td>Amy Poehler|Phyllis Smith|Richard Kind|Bill Ha...</td>\n      <td>Pete Docter</td>\n      <td>Meet the little voices inside your head.</td>\n      <td>Growing up can be a bumpy road, and it's no ex...</td>\n      <td>94</td>\n      <td>Comedy|Animation|Family</td>\n      <td>Walt Disney Pictures|Pixar Animation Studios|W...</td>\n      <td>6/9/2015</td>\n      <td>3935</td>\n      <td>8.0</td>\n      <td>2015</td>\n      <td>678708609</td>\n      <td>6</td>\n      <td>2</td>\n    </tr>\n    <tr>\n      <th>34</th>\n      <td>tt3170832</td>\n      <td>3.557846</td>\n      <td>6000000</td>\n      <td>35401758</td>\n      <td>Room</td>\n      <td>Brie Larson|Jacob Tremblay|Joan Allen|Sean Bri...</td>\n      <td>Lenny Abrahamson</td>\n      <td>Love knows no boundaries</td>\n      <td>Jack is a young boy of 5 years old who has liv...</td>\n      <td>117</td>\n      <td>Drama|Thriller</td>\n      <td>Element Pictures|No Trace Camping|A24|Duperele...</td>\n      <td>10/16/2015</td>\n      <td>1520</td>\n      <td>8.0</td>\n      <td>2015</td>\n      <td>29401758</td>\n      <td>10</td>\n      <td>1</td>\n    </tr>\n    <tr>\n      <th>118</th>\n      <td>tt0816692</td>\n      <td>24.949134</td>\n      <td>165000000</td>\n      <td>621752480</td>\n      <td>Interstellar</td>\n      <td>Matthew McConaughey|Jessica Chastain|Anne Hath...</td>\n      <td>Christopher Nolan</td>\n      <td>Mankind was born on Earth. It was never meant ...</td>\n      <td>Interstellar chronicles the adventures of a gr...</td>\n      <td>169</td>\n      <td>Adventure|Drama|Science Fiction</td>\n      <td>Paramount Pictures|Legendary Pictures|Warner B...</td>\n      <td>11/5/2014</td>\n      <td>6498</td>\n      <td>8.0</td>\n      <td>2014</td>\n      <td>456752480</td>\n      <td>11</td>\n      <td>1</td>\n    </tr>\n    <tr>\n      <th>125</th>\n      <td>tt2084970</td>\n      <td>8.110711</td>\n      <td>14000000</td>\n      <td>233555708</td>\n      <td>The Imitation Game</td>\n      <td>Benedict Cumberbatch|Keira Knightley|Matthew G...</td>\n      <td>Morten Tyldum</td>\n      <td>The true enigma was the man who cracked the code.</td>\n      <td>Based on the real life story of legendary cryp...</td>\n      <td>113</td>\n      <td>History|Drama|Thriller|War</td>\n      <td>Black Bear Pictures|Bristol Automotive</td>\n      <td>11/14/2014</td>\n      <td>3478</td>\n      <td>8.0</td>\n      <td>2014</td>\n      <td>219555708</td>\n      <td>11</td>\n      <td>3</td>\n    </tr>\n    <tr>\n      <th>600</th>\n      <td>tt0468569</td>\n      <td>8.466668</td>\n      <td>185000000</td>\n      <td>1001921825</td>\n      <td>The Dark Knight</td>\n      <td>Christian Bale|Michael Caine|Heath Ledger|Aaro...</td>\n      <td>Christopher Nolan</td>\n      <td>Why So Serious?</td>\n      <td>Batman raises the stakes in his war on crime. ...</td>\n      <td>152</td>\n      <td>Drama|Action|Crime|Thriller</td>\n      <td>DC Comics|Legendary Pictures|Warner Bros.|Syncopy</td>\n      <td>7/16/2008</td>\n      <td>8432</td>\n      <td>8.1</td>\n      <td>2008</td>\n      <td>816921825</td>\n      <td>7</td>\n      <td>3</td>\n    </tr>\n  </tbody>\n</table>\n</div>"
     },
     "metadata": {},
     "execution_count": 72
    }
   ],
   "source": [
    "data['vote_average'].value_counts(bins=25)\n",
    "data[data['vote_average'] >= 7.908]"
   ]
  },
  {
   "cell_type": "code",
   "execution_count": 73,
   "metadata": {},
   "outputs": [],
   "source": [
    "answer_ls.append(1)"
   ]
  },
  {
   "cell_type": "markdown",
   "metadata": {},
   "source": [
    "# 35. Какие актеры чаще всего снимаются в одном фильме вместе\n",
    "Варианты ответа:\n",
    "1. Johnny Depp & Helena Bonham Carter\n",
    "2. Hugh Jackman & Ian McKellen\n",
    "3. Vin Diesel & Paul Walker\n",
    "4. Adam Sandler & Kevin James\n",
    "5. Daniel Radcliffe & Rupert Grint"
   ]
  },
  {
   "cell_type": "code",
   "execution_count": 74,
   "metadata": {},
   "outputs": [
    {
     "output_type": "execute_result",
     "data": {
      "text/plain": "[8, ['Daniel Radcliffe', 'Rupert Grint']]"
     },
     "metadata": {},
     "execution_count": 74
    }
   ],
   "source": [
    "vars = [\n",
    "    ['Johnny Depp','Helena Bonham Carter'],\n",
    "    ['Hugh Jackman','Ian McKellen',],\n",
    "    ['Vin Diesel','Paul Walker'],\n",
    "    ['Adam Sandler','Kevin James',],\n",
    "    ['Daniel Radcliffe', 'Rupert Grint']\n",
    "]\n",
    "res_temp = [0, '']\n",
    "for i in vars:\n",
    "    act1 = data[data['cast'].str.contains(i[0])]\n",
    "    act2 = data[data['cast'].str.contains(i[1])]\n",
    "    res = act1.merge(act2, on='imdb_id', how='inner')\n",
    "    a = res['imdb_id'].count()\n",
    "    if a >  res_temp[0]:\n",
    "        res_temp = [a, i]\n",
    "res_temp"
   ]
  },
  {
   "cell_type": "code",
   "execution_count": 75,
   "metadata": {},
   "outputs": [],
   "source": [
    "answer_ls.append(5)"
   ]
  },
  {
   "cell_type": "markdown",
   "metadata": {},
   "source": [
    "# 36. У какого из режиссеров выше вероятность выпустить фильм в прибыли? (5 баллов)101\n",
    "Варианты ответа:\n",
    "1. Quentin Tarantino\n",
    "2. Steven Soderbergh\n",
    "3. Robert Rodriguez\n",
    "4. Christopher Nolan\n",
    "5. Clint Eastwood"
   ]
  },
  {
   "cell_type": "code",
   "execution_count": 76,
   "metadata": {},
   "outputs": [
    {
     "output_type": "execute_result",
     "data": {
      "text/plain": "                  name  all  good      coef\n17   Quentin Tarantino    7     6  0.857143\n122  Christopher Nolan    8     8  1.000000\n148     Clint Eastwood   12    10  0.833333\n190   Robert Rodriguez   11     8  0.727273\n289  Steven Soderbergh   13    10  0.769231",
      "text/html": "<div>\n<style scoped>\n    .dataframe tbody tr th:only-of-type {\n        vertical-align: middle;\n    }\n\n    .dataframe tbody tr th {\n        vertical-align: top;\n    }\n\n    .dataframe thead th {\n        text-align: right;\n    }\n</style>\n<table border=\"1\" class=\"dataframe\">\n  <thead>\n    <tr style=\"text-align: right;\">\n      <th></th>\n      <th>name</th>\n      <th>all</th>\n      <th>good</th>\n      <th>coef</th>\n    </tr>\n  </thead>\n  <tbody>\n    <tr>\n      <th>17</th>\n      <td>Quentin Tarantino</td>\n      <td>7</td>\n      <td>6</td>\n      <td>0.857143</td>\n    </tr>\n    <tr>\n      <th>122</th>\n      <td>Christopher Nolan</td>\n      <td>8</td>\n      <td>8</td>\n      <td>1.000000</td>\n    </tr>\n    <tr>\n      <th>148</th>\n      <td>Clint Eastwood</td>\n      <td>12</td>\n      <td>10</td>\n      <td>0.833333</td>\n    </tr>\n    <tr>\n      <th>190</th>\n      <td>Robert Rodriguez</td>\n      <td>11</td>\n      <td>8</td>\n      <td>0.727273</td>\n    </tr>\n    <tr>\n      <th>289</th>\n      <td>Steven Soderbergh</td>\n      <td>13</td>\n      <td>10</td>\n      <td>0.769231</td>\n    </tr>\n  </tbody>\n</table>\n</div>"
     },
     "metadata": {},
     "execution_count": 76
    }
   ],
   "source": [
    "director = []\n",
    "def unic_genres(string):\n",
    "    arr = string.split('|')\n",
    "    for i in arr:\n",
    "        if i not in director:\n",
    "            director.append(i)\n",
    "data['director'].apply(unic_genres)\n",
    "temp_count = 0\n",
    "arr = []\n",
    "for i in director:\n",
    "    \n",
    "    temp = data[(data['director'].str.contains(i) != False)]\n",
    "    allFilms = temp['imdb_id'].count()\n",
    "    good = temp[temp['balance'] > 0]['imdb_id'].count()\n",
    "    arr.append([i, allFilms, good, good /allFilms ])\n",
    "res = pd.DataFrame(arr, columns=['name', 'all', 'good', 'coef'])\n",
    "res.query('name in  [\"Quentin Tarantino\",\"Steven Soderbergh\",\"Robert Rodriguez\",\"Christopher Nolan\",\"Clint Eastwood\"]')"
   ]
  },
  {
   "cell_type": "code",
   "execution_count": 77,
   "metadata": {},
   "outputs": [],
   "source": [
    "answer_ls.append(4)"
   ]
  },
  {
   "cell_type": "markdown",
   "metadata": {},
   "source": [
    "# Submission"
   ]
  },
  {
   "cell_type": "code",
   "execution_count": 78,
   "metadata": {},
   "outputs": [
    {
     "output_type": "execute_result",
     "data": {
      "text/plain": "36"
     },
     "metadata": {},
     "execution_count": 78
    }
   ],
   "source": [
    "len(answer_ls)"
   ]
  },
  {
   "cell_type": "code",
   "execution_count": 79,
   "metadata": {},
   "outputs": [
    {
     "output_type": "execute_result",
     "data": {
      "text/plain": "    Id  Answer\n0    1       4\n1    2       2\n2    3       3\n3    4       2\n4    5       1\n5    6       5\n6    7       2\n7    8       1\n8    9       4\n9   10       5\n10  11       3\n11  12       1\n12  13       1\n13  14       4\n14  15       5\n15  16       1\n16  17       3\n17  18       3\n18  19       2\n19  20       1\n20  21       4\n21  22       3\n22  23       3\n23  24       1\n24  25       5\n25  26       1\n26  27       4\n27  28       2\n28  29       5\n29  30       2\n30  31       5\n31  32       5\n32  33       3\n33  34       1\n34  35       5\n35  36       4",
      "text/html": "<div>\n<style scoped>\n    .dataframe tbody tr th:only-of-type {\n        vertical-align: middle;\n    }\n\n    .dataframe tbody tr th {\n        vertical-align: top;\n    }\n\n    .dataframe thead th {\n        text-align: right;\n    }\n</style>\n<table border=\"1\" class=\"dataframe\">\n  <thead>\n    <tr style=\"text-align: right;\">\n      <th></th>\n      <th>Id</th>\n      <th>Answer</th>\n    </tr>\n  </thead>\n  <tbody>\n    <tr>\n      <th>0</th>\n      <td>1</td>\n      <td>4</td>\n    </tr>\n    <tr>\n      <th>1</th>\n      <td>2</td>\n      <td>2</td>\n    </tr>\n    <tr>\n      <th>2</th>\n      <td>3</td>\n      <td>3</td>\n    </tr>\n    <tr>\n      <th>3</th>\n      <td>4</td>\n      <td>2</td>\n    </tr>\n    <tr>\n      <th>4</th>\n      <td>5</td>\n      <td>1</td>\n    </tr>\n    <tr>\n      <th>5</th>\n      <td>6</td>\n      <td>5</td>\n    </tr>\n    <tr>\n      <th>6</th>\n      <td>7</td>\n      <td>2</td>\n    </tr>\n    <tr>\n      <th>7</th>\n      <td>8</td>\n      <td>1</td>\n    </tr>\n    <tr>\n      <th>8</th>\n      <td>9</td>\n      <td>4</td>\n    </tr>\n    <tr>\n      <th>9</th>\n      <td>10</td>\n      <td>5</td>\n    </tr>\n    <tr>\n      <th>10</th>\n      <td>11</td>\n      <td>3</td>\n    </tr>\n    <tr>\n      <th>11</th>\n      <td>12</td>\n      <td>1</td>\n    </tr>\n    <tr>\n      <th>12</th>\n      <td>13</td>\n      <td>1</td>\n    </tr>\n    <tr>\n      <th>13</th>\n      <td>14</td>\n      <td>4</td>\n    </tr>\n    <tr>\n      <th>14</th>\n      <td>15</td>\n      <td>5</td>\n    </tr>\n    <tr>\n      <th>15</th>\n      <td>16</td>\n      <td>1</td>\n    </tr>\n    <tr>\n      <th>16</th>\n      <td>17</td>\n      <td>3</td>\n    </tr>\n    <tr>\n      <th>17</th>\n      <td>18</td>\n      <td>3</td>\n    </tr>\n    <tr>\n      <th>18</th>\n      <td>19</td>\n      <td>2</td>\n    </tr>\n    <tr>\n      <th>19</th>\n      <td>20</td>\n      <td>1</td>\n    </tr>\n    <tr>\n      <th>20</th>\n      <td>21</td>\n      <td>4</td>\n    </tr>\n    <tr>\n      <th>21</th>\n      <td>22</td>\n      <td>3</td>\n    </tr>\n    <tr>\n      <th>22</th>\n      <td>23</td>\n      <td>3</td>\n    </tr>\n    <tr>\n      <th>23</th>\n      <td>24</td>\n      <td>1</td>\n    </tr>\n    <tr>\n      <th>24</th>\n      <td>25</td>\n      <td>5</td>\n    </tr>\n    <tr>\n      <th>25</th>\n      <td>26</td>\n      <td>1</td>\n    </tr>\n    <tr>\n      <th>26</th>\n      <td>27</td>\n      <td>4</td>\n    </tr>\n    <tr>\n      <th>27</th>\n      <td>28</td>\n      <td>2</td>\n    </tr>\n    <tr>\n      <th>28</th>\n      <td>29</td>\n      <td>5</td>\n    </tr>\n    <tr>\n      <th>29</th>\n      <td>30</td>\n      <td>2</td>\n    </tr>\n    <tr>\n      <th>30</th>\n      <td>31</td>\n      <td>5</td>\n    </tr>\n    <tr>\n      <th>31</th>\n      <td>32</td>\n      <td>5</td>\n    </tr>\n    <tr>\n      <th>32</th>\n      <td>33</td>\n      <td>3</td>\n    </tr>\n    <tr>\n      <th>33</th>\n      <td>34</td>\n      <td>1</td>\n    </tr>\n    <tr>\n      <th>34</th>\n      <td>35</td>\n      <td>5</td>\n    </tr>\n    <tr>\n      <th>35</th>\n      <td>36</td>\n      <td>4</td>\n    </tr>\n  </tbody>\n</table>\n</div>"
     },
     "metadata": {},
     "execution_count": 79
    }
   ],
   "source": [
    "pd.DataFrame({'Id':range(1,len(answer_ls)+1), 'Answer':answer_ls}, columns=['Id', 'Answer'])"
   ]
  }
 ],
 "metadata": {
  "kernelspec": {
   "display_name": "Python 3",
   "language": "python",
   "name": "python3"
  },
  "language_info": {
   "codemirror_mode": {
    "name": "ipython",
    "version": 3
   },
   "file_extension": ".py",
   "mimetype": "text/x-python",
   "name": "python",
   "nbconvert_exporter": "python",
   "pygments_lexer": "ipython3",
   "version": "3.7.7-final"
  }
 },
 "nbformat": 4,
 "nbformat_minor": 4
}